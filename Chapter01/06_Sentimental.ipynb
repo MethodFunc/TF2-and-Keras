{
 "cells": [
  {
   "cell_type": "code",
   "execution_count": 2,
   "metadata": {},
   "outputs": [],
   "source": [
    "import tensorflow as tf\n",
    "import tensorflow_datasets as tfds"
   ]
  },
  {
   "cell_type": "code",
   "execution_count": 3,
   "metadata": {},
   "outputs": [],
   "source": [
    "from tensorflow import keras\n",
    "from keras import datasets, layers, models, preprocessing"
   ]
  },
  {
   "cell_type": "code",
   "execution_count": 4,
   "metadata": {},
   "outputs": [],
   "source": [
    "MAX_LEN = 200\n",
    "N_WORDS = 10000\n",
    "DIM_EMBEDDING = 256\n",
    "EPOCHS = 20\n",
    "BATCH_SIZE = 500"
   ]
  },
  {
   "cell_type": "code",
   "execution_count": 5,
   "metadata": {},
   "outputs": [],
   "source": [
    "def load_data():\n",
    "    (X_train, Y_train), (X_test, Y_test) = datasets.imdb.load_data(num_words=N_WORDS)\n",
    "    X_train = preprocessing.sequence.pad_sequences(X_train, MAX_LEN)\n",
    "    X_test = preprocessing.sequence.pad_sequences(X_test, MAX_LEN)\n",
    "    \n",
    "    return (X_train, Y_train), (X_test, Y_test)"
   ]
  },
  {
   "cell_type": "code",
   "execution_count": 6,
   "metadata": {},
   "outputs": [],
   "source": [
    "def build_model():\n",
    "    model = models.Sequential([\n",
    "        layers.Embedding(N_WORDS, DIM_EMBEDDING, input_length=MAX_LEN),\n",
    "        layers.Dropout(0.3),\n",
    "        \n",
    "        layers.GlobalAveragePooling1D(),\n",
    "        layers.Dense(128, activation='relu'),\n",
    "        layers.Dropout(0.5),\n",
    "        layers.Dense(1, activation='sigmoid')\n",
    "    ])\n",
    "    \n",
    "    return model"
   ]
  },
  {
   "cell_type": "code",
   "execution_count": 7,
   "metadata": {},
   "outputs": [
    {
     "name": "stdout",
     "output_type": "stream",
     "text": [
      "Downloading data from https://storage.googleapis.com/tensorflow/tf-keras-datasets/imdb.npz\n",
      "17465344/17464789 [==============================] - 0s 0us/step\n"
     ]
    }
   ],
   "source": [
    "(X_train, Y_train), (X_test, Y_test) = load_data()"
   ]
  },
  {
   "cell_type": "code",
   "execution_count": 8,
   "metadata": {},
   "outputs": [],
   "source": [
    "model = build_model()"
   ]
  },
  {
   "cell_type": "code",
   "execution_count": 9,
   "metadata": {},
   "outputs": [
    {
     "name": "stdout",
     "output_type": "stream",
     "text": [
      "Model: \"sequential\"\n",
      "_________________________________________________________________\n",
      "Layer (type)                 Output Shape              Param #   \n",
      "=================================================================\n",
      "embedding (Embedding)        (None, 200, 256)          2560000   \n",
      "_________________________________________________________________\n",
      "dropout (Dropout)            (None, 200, 256)          0         \n",
      "_________________________________________________________________\n",
      "global_average_pooling1d (Gl (None, 256)               0         \n",
      "_________________________________________________________________\n",
      "dense (Dense)                (None, 128)               32896     \n",
      "_________________________________________________________________\n",
      "dropout_1 (Dropout)          (None, 128)               0         \n",
      "_________________________________________________________________\n",
      "dense_1 (Dense)              (None, 1)                 129       \n",
      "=================================================================\n",
      "Total params: 2,593,025\n",
      "Trainable params: 2,593,025\n",
      "Non-trainable params: 0\n",
      "_________________________________________________________________\n"
     ]
    }
   ],
   "source": [
    "model.summary()"
   ]
  },
  {
   "cell_type": "code",
   "execution_count": 11,
   "metadata": {},
   "outputs": [],
   "source": [
    "model.compile(optimizer = 'adam', loss = 'binary_crossentropy', metrics=['accuracy'])"
   ]
  },
  {
   "cell_type": "code",
   "execution_count": 12,
   "metadata": {},
   "outputs": [
    {
     "name": "stdout",
     "output_type": "stream",
     "text": [
      "Epoch 1/20\n",
      "50/50 [==============================] - 4s 77ms/step - loss: 0.6628 - accuracy: 0.6551 - val_loss: 0.5812 - val_accuracy: 0.7739\n",
      "Epoch 2/20\n",
      "50/50 [==============================] - 4s 77ms/step - loss: 0.4388 - accuracy: 0.8317 - val_loss: 0.3516 - val_accuracy: 0.8559\n",
      "Epoch 3/20\n",
      "50/50 [==============================] - 4s 75ms/step - loss: 0.2853 - accuracy: 0.8894 - val_loss: 0.3040 - val_accuracy: 0.8716\n",
      "Epoch 4/20\n",
      "50/50 [==============================] - 4s 73ms/step - loss: 0.2283 - accuracy: 0.9111 - val_loss: 0.2912 - val_accuracy: 0.8780\n",
      "Epoch 5/20\n",
      "50/50 [==============================] - 4s 76ms/step - loss: 0.1941 - accuracy: 0.9276 - val_loss: 0.3035 - val_accuracy: 0.8730\n",
      "Epoch 6/20\n",
      "50/50 [==============================] - 4s 76ms/step - loss: 0.1663 - accuracy: 0.9398 - val_loss: 0.3108 - val_accuracy: 0.8722\n",
      "Epoch 7/20\n",
      "50/50 [==============================] - 4s 76ms/step - loss: 0.1453 - accuracy: 0.9494 - val_loss: 0.3258 - val_accuracy: 0.8698\n",
      "Epoch 8/20\n",
      "50/50 [==============================] - 4s 74ms/step - loss: 0.1299 - accuracy: 0.9569 - val_loss: 0.3438 - val_accuracy: 0.8666\n",
      "Epoch 9/20\n",
      "50/50 [==============================] - 4s 74ms/step - loss: 0.1147 - accuracy: 0.9638 - val_loss: 0.3663 - val_accuracy: 0.8640\n",
      "Epoch 10/20\n",
      "50/50 [==============================] - 4s 75ms/step - loss: 0.1029 - accuracy: 0.9682 - val_loss: 0.3897 - val_accuracy: 0.8608\n",
      "Epoch 11/20\n",
      "50/50 [==============================] - 4s 73ms/step - loss: 0.0921 - accuracy: 0.9732 - val_loss: 0.4145 - val_accuracy: 0.8588\n",
      "Epoch 12/20\n",
      "50/50 [==============================] - 4s 74ms/step - loss: 0.0842 - accuracy: 0.9762 - val_loss: 0.4417 - val_accuracy: 0.8559\n",
      "Epoch 13/20\n",
      "50/50 [==============================] - 4s 76ms/step - loss: 0.0756 - accuracy: 0.9800 - val_loss: 0.4681 - val_accuracy: 0.8527\n",
      "Epoch 14/20\n",
      "50/50 [==============================] - 4s 74ms/step - loss: 0.0670 - accuracy: 0.9834 - val_loss: 0.4903 - val_accuracy: 0.8520\n",
      "Epoch 15/20\n",
      "50/50 [==============================] - 4s 74ms/step - loss: 0.0632 - accuracy: 0.9836 - val_loss: 0.5179 - val_accuracy: 0.8494\n",
      "Epoch 16/20\n",
      "50/50 [==============================] - 4s 73ms/step - loss: 0.0569 - accuracy: 0.9858 - val_loss: 0.5507 - val_accuracy: 0.8457\n",
      "Epoch 17/20\n",
      "50/50 [==============================] - 4s 74ms/step - loss: 0.0523 - accuracy: 0.9870 - val_loss: 0.5823 - val_accuracy: 0.8453\n",
      "Epoch 18/20\n",
      "50/50 [==============================] - 4s 75ms/step - loss: 0.0439 - accuracy: 0.9912 - val_loss: 0.6137 - val_accuracy: 0.8429\n",
      "Epoch 19/20\n",
      "50/50 [==============================] - 4s 77ms/step - loss: 0.0420 - accuracy: 0.9908 - val_loss: 0.6340 - val_accuracy: 0.8423\n",
      "Epoch 20/20\n",
      "50/50 [==============================] - 4s 75ms/step - loss: 0.0371 - accuracy: 0.9930 - val_loss: 0.6668 - val_accuracy: 0.8395\n"
     ]
    }
   ],
   "source": [
    "score = model.fit(X_train, Y_train, epochs = EPOCHS, batch_size = BATCH_SIZE, validation_data = (X_test, Y_test))"
   ]
  },
  {
   "cell_type": "code",
   "execution_count": 13,
   "metadata": {},
   "outputs": [
    {
     "name": "stdout",
     "output_type": "stream",
     "text": [
      "50/50 [==============================] - 1s 18ms/step - loss: 0.6668 - accuracy: 0.8395\n",
      "\n",
      "Test score: 0.6668372750282288\n",
      "Test Accuracy 0.8395199775695801\n"
     ]
    }
   ],
   "source": [
    "score2 = model.evaluate(X_test, Y_test, batch_size = BATCH_SIZE)\n",
    "print('\\nTest score:', score2[0])\n",
    "print('Test Accuracy', score2[1])"
   ]
  },
  {
   "cell_type": "code",
   "execution_count": null,
   "metadata": {},
   "outputs": [],
   "source": []
  }
 ],
 "metadata": {
  "kernelspec": {
   "display_name": "Python 3.6.9 64-bit ('tf2': venv)",
   "language": "python",
   "name": "python36964bittf2venva35f2732c57c4baa876ab0ce8c2bd68e"
  },
  "language_info": {
   "codemirror_mode": {
    "name": "ipython",
    "version": 3
   },
   "file_extension": ".py",
   "mimetype": "text/x-python",
   "name": "python",
   "nbconvert_exporter": "python",
   "pygments_lexer": "ipython3",
   "version": "3.6.9"
  }
 },
 "nbformat": 4,
 "nbformat_minor": 4
}

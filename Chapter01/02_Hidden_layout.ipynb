{
 "cells": [
  {
   "cell_type": "code",
   "execution_count": 1,
   "metadata": {},
   "outputs": [],
   "source": [
    "import tensorflow as tf\n",
    "import numpy as np"
   ]
  },
  {
   "cell_type": "code",
   "execution_count": 2,
   "metadata": {},
   "outputs": [],
   "source": [
    "from tensorflow import keras"
   ]
  },
  {
   "cell_type": "code",
   "execution_count": 3,
   "metadata": {},
   "outputs": [],
   "source": [
    "EPOCHS = 50\n",
    "BATCH_SIZE = 128\n",
    "VERBOSE = 1\n",
    "NB_CLASSES = 10\n",
    "N_HIDDEN = 128\n",
    "VALIDATION_SPLIT = 0.2\n",
    "RESHAPED = 784"
   ]
  },
  {
   "cell_type": "code",
   "execution_count": 4,
   "metadata": {},
   "outputs": [],
   "source": [
    "mnist = keras.datasets.mnist"
   ]
  },
  {
   "cell_type": "code",
   "execution_count": 5,
   "metadata": {},
   "outputs": [],
   "source": [
    "(X_train, Y_train), (X_test, Y_test) = mnist.load_data()"
   ]
  },
  {
   "cell_type": "code",
   "execution_count": 6,
   "metadata": {},
   "outputs": [],
   "source": [
    "X_train = X_train.reshape(-1, RESHAPED)\n",
    "X_test = X_test.reshape(-1, RESHAPED)"
   ]
  },
  {
   "cell_type": "code",
   "execution_count": 7,
   "metadata": {},
   "outputs": [],
   "source": [
    "X_train = X_train / 255.\n",
    "X_test = X_test / 255."
   ]
  },
  {
   "cell_type": "code",
   "execution_count": 8,
   "metadata": {},
   "outputs": [],
   "source": [
    "Y_train = keras.utils.to_categorical(Y_train, NB_CLASSES)\n",
    "Y_test = keras.utils.to_categorical(Y_test, NB_CLASSES)"
   ]
  },
  {
   "cell_type": "code",
   "execution_count": 9,
   "metadata": {},
   "outputs": [],
   "source": [
    "model = keras.models.Sequential([\n",
    "    keras.layers.Dense(N_HIDDEN, input_shape=(RESHAPED,), name = \"Dense_layer\", activation='relu'),\n",
    "    keras.layers.Dense(N_HIDDEN, name=\"Dense_layer_2\", activation='relu'),\n",
    "    keras.layers.Dense(NB_CLASSES, activation='softmax', name=\"Dense_layer_3\")\n",
    "])"
   ]
  },
  {
   "cell_type": "code",
   "execution_count": 10,
   "metadata": {},
   "outputs": [
    {
     "name": "stdout",
     "output_type": "stream",
     "text": [
      "Model: \"sequential\"\n",
      "_________________________________________________________________\n",
      "Layer (type)                 Output Shape              Param #   \n",
      "=================================================================\n",
      "Dense_layer (Dense)          (None, 128)               100480    \n",
      "_________________________________________________________________\n",
      "Dense_layer_2 (Dense)        (None, 128)               16512     \n",
      "_________________________________________________________________\n",
      "Dense_layer_3 (Dense)        (None, 10)                1290      \n",
      "=================================================================\n",
      "Total params: 118,282\n",
      "Trainable params: 118,282\n",
      "Non-trainable params: 0\n",
      "_________________________________________________________________\n"
     ]
    }
   ],
   "source": [
    "model.summary()"
   ]
  },
  {
   "cell_type": "code",
   "execution_count": 11,
   "metadata": {},
   "outputs": [],
   "source": [
    "model.compile(optimizer=\"SGD\", loss='categorical_crossentropy', metrics=['accuracy'])"
   ]
  },
  {
   "cell_type": "code",
   "execution_count": 12,
   "metadata": {},
   "outputs": [
    {
     "name": "stdout",
     "output_type": "stream",
     "text": [
      "Epoch 1/50\n",
      "375/375 [==============================] - 0s 1ms/step - loss: 1.4718 - accuracy: 0.6206 - val_loss: 0.7433 - val_accuracy: 0.8491\n",
      "Epoch 2/50\n",
      "375/375 [==============================] - 0s 1ms/step - loss: 0.5921 - accuracy: 0.8582 - val_loss: 0.4452 - val_accuracy: 0.8863\n",
      "Epoch 3/50\n",
      "375/375 [==============================] - 0s 1ms/step - loss: 0.4314 - accuracy: 0.8865 - val_loss: 0.3685 - val_accuracy: 0.8978\n",
      "Epoch 4/50\n",
      "375/375 [==============================] - 0s 1ms/step - loss: 0.3723 - accuracy: 0.8986 - val_loss: 0.3288 - val_accuracy: 0.9090\n",
      "Epoch 5/50\n",
      "375/375 [==============================] - 0s 1ms/step - loss: 0.3391 - accuracy: 0.9065 - val_loss: 0.3051 - val_accuracy: 0.9144\n",
      "Epoch 6/50\n",
      "375/375 [==============================] - 0s 1ms/step - loss: 0.3160 - accuracy: 0.9117 - val_loss: 0.2880 - val_accuracy: 0.9192\n",
      "Epoch 7/50\n",
      "375/375 [==============================] - 0s 1ms/step - loss: 0.2982 - accuracy: 0.9165 - val_loss: 0.2747 - val_accuracy: 0.9230\n",
      "Epoch 8/50\n",
      "375/375 [==============================] - 0s 1ms/step - loss: 0.2836 - accuracy: 0.9204 - val_loss: 0.2624 - val_accuracy: 0.9256\n",
      "Epoch 9/50\n",
      "375/375 [==============================] - 0s 1ms/step - loss: 0.2712 - accuracy: 0.9238 - val_loss: 0.2535 - val_accuracy: 0.9290\n",
      "Epoch 10/50\n",
      "375/375 [==============================] - 0s 1ms/step - loss: 0.2602 - accuracy: 0.9272 - val_loss: 0.2441 - val_accuracy: 0.9311\n",
      "Epoch 11/50\n",
      "375/375 [==============================] - 0s 1ms/step - loss: 0.2508 - accuracy: 0.9298 - val_loss: 0.2369 - val_accuracy: 0.9328\n",
      "Epoch 12/50\n",
      "375/375 [==============================] - 0s 1ms/step - loss: 0.2422 - accuracy: 0.9320 - val_loss: 0.2294 - val_accuracy: 0.9346\n",
      "Epoch 13/50\n",
      "375/375 [==============================] - 0s 1ms/step - loss: 0.2341 - accuracy: 0.9349 - val_loss: 0.2232 - val_accuracy: 0.9366\n",
      "Epoch 14/50\n",
      "375/375 [==============================] - 0s 1ms/step - loss: 0.2267 - accuracy: 0.9364 - val_loss: 0.2180 - val_accuracy: 0.9367\n",
      "Epoch 15/50\n",
      "375/375 [==============================] - 0s 1ms/step - loss: 0.2198 - accuracy: 0.9376 - val_loss: 0.2117 - val_accuracy: 0.9402\n",
      "Epoch 16/50\n",
      "375/375 [==============================] - 0s 1ms/step - loss: 0.2133 - accuracy: 0.9396 - val_loss: 0.2089 - val_accuracy: 0.9403\n",
      "Epoch 17/50\n",
      "375/375 [==============================] - 0s 1ms/step - loss: 0.2076 - accuracy: 0.9417 - val_loss: 0.2026 - val_accuracy: 0.9429\n",
      "Epoch 18/50\n",
      "375/375 [==============================] - 0s 1ms/step - loss: 0.2018 - accuracy: 0.9436 - val_loss: 0.1976 - val_accuracy: 0.9441\n",
      "Epoch 19/50\n",
      "375/375 [==============================] - 0s 1ms/step - loss: 0.1964 - accuracy: 0.9449 - val_loss: 0.1937 - val_accuracy: 0.9458\n",
      "Epoch 20/50\n",
      "375/375 [==============================] - 0s 1ms/step - loss: 0.1913 - accuracy: 0.9461 - val_loss: 0.1885 - val_accuracy: 0.9476\n",
      "Epoch 21/50\n",
      "375/375 [==============================] - 0s 1ms/step - loss: 0.1866 - accuracy: 0.9477 - val_loss: 0.1849 - val_accuracy: 0.9477\n",
      "Epoch 22/50\n",
      "375/375 [==============================] - 0s 1ms/step - loss: 0.1818 - accuracy: 0.9492 - val_loss: 0.1814 - val_accuracy: 0.9487\n",
      "Epoch 23/50\n",
      "375/375 [==============================] - 0s 1ms/step - loss: 0.1775 - accuracy: 0.9504 - val_loss: 0.1786 - val_accuracy: 0.9498\n",
      "Epoch 24/50\n",
      "375/375 [==============================] - 0s 1ms/step - loss: 0.1733 - accuracy: 0.9515 - val_loss: 0.1759 - val_accuracy: 0.9499\n",
      "Epoch 25/50\n",
      "375/375 [==============================] - 0s 1ms/step - loss: 0.1693 - accuracy: 0.9525 - val_loss: 0.1721 - val_accuracy: 0.9515\n",
      "Epoch 26/50\n",
      "375/375 [==============================] - 0s 1ms/step - loss: 0.1654 - accuracy: 0.9536 - val_loss: 0.1698 - val_accuracy: 0.9525\n",
      "Epoch 27/50\n",
      "375/375 [==============================] - 0s 1ms/step - loss: 0.1617 - accuracy: 0.9545 - val_loss: 0.1662 - val_accuracy: 0.9537\n",
      "Epoch 28/50\n",
      "375/375 [==============================] - 0s 1ms/step - loss: 0.1583 - accuracy: 0.9556 - val_loss: 0.1638 - val_accuracy: 0.9539\n",
      "Epoch 29/50\n",
      "375/375 [==============================] - 0s 1ms/step - loss: 0.1549 - accuracy: 0.9565 - val_loss: 0.1612 - val_accuracy: 0.9539\n",
      "Epoch 30/50\n",
      "375/375 [==============================] - 0s 1ms/step - loss: 0.1516 - accuracy: 0.9574 - val_loss: 0.1584 - val_accuracy: 0.9555\n",
      "Epoch 31/50\n",
      "375/375 [==============================] - 0s 1ms/step - loss: 0.1484 - accuracy: 0.9583 - val_loss: 0.1573 - val_accuracy: 0.9554\n",
      "Epoch 32/50\n",
      "375/375 [==============================] - 0s 1ms/step - loss: 0.1456 - accuracy: 0.9589 - val_loss: 0.1540 - val_accuracy: 0.9569\n",
      "Epoch 33/50\n",
      "375/375 [==============================] - 0s 1ms/step - loss: 0.1426 - accuracy: 0.9597 - val_loss: 0.1522 - val_accuracy: 0.9563\n",
      "Epoch 34/50\n",
      "375/375 [==============================] - 0s 1ms/step - loss: 0.1400 - accuracy: 0.9605 - val_loss: 0.1502 - val_accuracy: 0.9565\n",
      "Epoch 35/50\n",
      "375/375 [==============================] - 0s 1ms/step - loss: 0.1371 - accuracy: 0.9615 - val_loss: 0.1473 - val_accuracy: 0.9590\n",
      "Epoch 36/50\n",
      "375/375 [==============================] - 0s 1ms/step - loss: 0.1344 - accuracy: 0.9621 - val_loss: 0.1461 - val_accuracy: 0.9583\n",
      "Epoch 37/50\n",
      "375/375 [==============================] - 0s 1ms/step - loss: 0.1316 - accuracy: 0.9631 - val_loss: 0.1439 - val_accuracy: 0.9592\n",
      "Epoch 38/50\n",
      "375/375 [==============================] - 0s 1ms/step - loss: 0.1293 - accuracy: 0.9636 - val_loss: 0.1423 - val_accuracy: 0.9596\n",
      "Epoch 39/50\n",
      "375/375 [==============================] - 0s 1ms/step - loss: 0.1268 - accuracy: 0.9642 - val_loss: 0.1404 - val_accuracy: 0.9614\n",
      "Epoch 40/50\n",
      "375/375 [==============================] - 0s 1ms/step - loss: 0.1244 - accuracy: 0.9647 - val_loss: 0.1399 - val_accuracy: 0.9601\n",
      "Epoch 41/50\n",
      "375/375 [==============================] - 0s 1ms/step - loss: 0.1224 - accuracy: 0.9660 - val_loss: 0.1383 - val_accuracy: 0.9597\n",
      "Epoch 42/50\n",
      "375/375 [==============================] - 0s 1ms/step - loss: 0.1200 - accuracy: 0.9663 - val_loss: 0.1359 - val_accuracy: 0.9607\n",
      "Epoch 43/50\n",
      "375/375 [==============================] - 0s 1ms/step - loss: 0.1178 - accuracy: 0.9671 - val_loss: 0.1342 - val_accuracy: 0.9615\n",
      "Epoch 44/50\n",
      "375/375 [==============================] - 0s 1ms/step - loss: 0.1157 - accuracy: 0.9676 - val_loss: 0.1333 - val_accuracy: 0.9616\n",
      "Epoch 45/50\n",
      "375/375 [==============================] - 0s 1ms/step - loss: 0.1138 - accuracy: 0.9682 - val_loss: 0.1315 - val_accuracy: 0.9631\n",
      "Epoch 46/50\n",
      "375/375 [==============================] - 0s 1ms/step - loss: 0.1117 - accuracy: 0.9687 - val_loss: 0.1312 - val_accuracy: 0.9632\n",
      "Epoch 47/50\n",
      "375/375 [==============================] - 0s 1ms/step - loss: 0.1098 - accuracy: 0.9692 - val_loss: 0.1296 - val_accuracy: 0.9632\n",
      "Epoch 48/50\n",
      "375/375 [==============================] - 0s 1ms/step - loss: 0.1077 - accuracy: 0.9701 - val_loss: 0.1282 - val_accuracy: 0.9638\n",
      "Epoch 49/50\n",
      "375/375 [==============================] - 0s 1ms/step - loss: 0.1062 - accuracy: 0.9703 - val_loss: 0.1263 - val_accuracy: 0.9647\n",
      "Epoch 50/50\n",
      "375/375 [==============================] - 0s 1ms/step - loss: 0.1042 - accuracy: 0.9711 - val_loss: 0.1267 - val_accuracy: 0.9636\n"
     ]
    },
    {
     "data": {
      "text/plain": [
       "<tensorflow.python.keras.callbacks.History at 0x7f0533a8a6a0>"
      ]
     },
     "execution_count": 12,
     "metadata": {},
     "output_type": "execute_result"
    }
   ],
   "source": [
    "model.fit(X_train, Y_train, batch_size=BATCH_SIZE, epochs=EPOCHS, validation_split=VALIDATION_SPLIT, verbose=VERBOSE)"
   ]
  },
  {
   "cell_type": "code",
   "execution_count": 13,
   "metadata": {},
   "outputs": [
    {
     "name": "stdout",
     "output_type": "stream",
     "text": [
      "313/313 [==============================] - 0s 761us/step - loss: 0.1204 - accuracy: 0.9645\n",
      "Test accuracy: 0.9645000100135803\n"
     ]
    }
   ],
   "source": [
    "test_loss, test_acc = model.evaluate(X_test, Y_test)\n",
    "print(\"Test accuracy:\", test_acc)"
   ]
  },
  {
   "cell_type": "code",
   "execution_count": null,
   "metadata": {},
   "outputs": [],
   "source": []
  }
 ],
 "metadata": {
  "kernelspec": {
   "display_name": "Python 3.6.9 64-bit ('tf2': venv)",
   "language": "python",
   "name": "python36964bittf2venva35f2732c57c4baa876ab0ce8c2bd68e"
  },
  "language_info": {
   "codemirror_mode": {
    "name": "ipython",
    "version": 3
   },
   "file_extension": ".py",
   "mimetype": "text/x-python",
   "name": "python",
   "nbconvert_exporter": "python",
   "pygments_lexer": "ipython3",
   "version": "3.6.9"
  }
 },
 "nbformat": 4,
 "nbformat_minor": 4
}

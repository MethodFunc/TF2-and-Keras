{
 "cells": [
  {
   "cell_type": "code",
   "execution_count": 33,
   "metadata": {},
   "outputs": [],
   "source": [
    "import tensorflow as tf\n",
    "import numpy as np\n",
    "import pandas as pd\n",
    "import os"
   ]
  },
  {
   "cell_type": "code",
   "execution_count": 2,
   "metadata": {},
   "outputs": [],
   "source": [
    "from tensorflow import keras\n",
    "from keras import datasets, layers, models, optimizers"
   ]
  },
  {
   "cell_type": "code",
   "execution_count": 3,
   "metadata": {},
   "outputs": [],
   "source": [
    "(x_train, y_train), (x_test, y_test) = datasets.cifar10.load_data()"
   ]
  },
  {
   "cell_type": "code",
   "execution_count": 4,
   "metadata": {},
   "outputs": [],
   "source": [
    "IMG_CHANNELS = 3\n",
    "IMG_ROWS = 32\n",
    "IMG_COLS = 32\n",
    "INPUT_SHAPE = (IMG_ROWS, IMG_COLS, IMG_CHANNELS)"
   ]
  },
  {
   "cell_type": "code",
   "execution_count": 5,
   "metadata": {},
   "outputs": [],
   "source": [
    "BATCH_SIZE = 128\n",
    "EPOCHS = 20\n",
    "CLASSES = 10\n",
    "VERBOSE = 1\n",
    "VALIDATION_SPLIT = 0.2\n",
    "OPTIMIZER = keras.optimizers.Adam()"
   ]
  },
  {
   "cell_type": "code",
   "execution_count": 6,
   "metadata": {},
   "outputs": [],
   "source": [
    "def build(input_shape, classes):\n",
    "    model = models.Sequential([\n",
    "        layers.Convolution2D(32, (3, 3), activation='relu', input_shape=input_shape),\n",
    "        layers.MaxPooling2D(pool_size=(2, 2)),\n",
    "        layers.Dropout(0.25),\n",
    "        layers.Flatten(),\n",
    "        layers.Dense(512, activation = 'relu'),\n",
    "        layers.Dropout(0.5),\n",
    "        layers.Dense(classes, activation='softmax')\n",
    "    ])\n",
    "    \n",
    "    return model"
   ]
  },
  {
   "cell_type": "code",
   "execution_count": 7,
   "metadata": {},
   "outputs": [],
   "source": [
    "x_train = x_train / 255.\n",
    "x_test = x_test / 255."
   ]
  },
  {
   "cell_type": "code",
   "execution_count": 8,
   "metadata": {},
   "outputs": [],
   "source": [
    "y_train = keras.utils.to_categorical(y_train, CLASSES)\n",
    "y_test = keras.utils.to_categorical(y_test, CLASSES)"
   ]
  },
  {
   "cell_type": "code",
   "execution_count": 9,
   "metadata": {},
   "outputs": [],
   "source": [
    "callbacks = [ keras.callbacks.TensorBoard(log_dir='../logs/CIFAR10') ]"
   ]
  },
  {
   "cell_type": "code",
   "execution_count": 10,
   "metadata": {},
   "outputs": [
    {
     "data": {
      "text/plain": [
       "(50000, 32, 32, 3)"
      ]
     },
     "execution_count": 10,
     "metadata": {},
     "output_type": "execute_result"
    }
   ],
   "source": [
    "x_train.shape"
   ]
  },
  {
   "cell_type": "code",
   "execution_count": 11,
   "metadata": {},
   "outputs": [],
   "source": [
    "model = build(INPUT_SHAPE, CLASSES)"
   ]
  },
  {
   "cell_type": "code",
   "execution_count": 12,
   "metadata": {},
   "outputs": [],
   "source": [
    "model.compile(loss = 'categorical_crossentropy', optimizer=OPTIMIZER, metrics=['accuracy'])"
   ]
  },
  {
   "cell_type": "code",
   "execution_count": 13,
   "metadata": {},
   "outputs": [
    {
     "name": "stdout",
     "output_type": "stream",
     "text": [
      "Epoch 1/20\n",
      "  1/313 [..............................] - ETA: 0s - loss: 2.3713 - accuracy: 0.1094WARNING:tensorflow:From /home/methodfunc/envs/tf2/lib/python3.8/site-packages/tensorflow/python/ops/summary_ops_v2.py:1277: stop (from tensorflow.python.eager.profiler) is deprecated and will be removed after 2020-07-01.\n",
      "Instructions for updating:\n",
      "use `tf.profiler.experimental.stop` instead.\n",
      "WARNING:tensorflow:Callbacks method `on_train_batch_end` is slow compared to the batch time (batch time: 0.0024s vs `on_train_batch_end` time: 0.0078s). Check your callbacks.\n",
      "313/313 [==============================] - 2s 5ms/step - loss: 1.7270 - accuracy: 0.3790 - val_loss: 1.4071 - val_accuracy: 0.5155\n",
      "Epoch 2/20\n",
      "313/313 [==============================] - 2s 5ms/step - loss: 1.3912 - accuracy: 0.5039 - val_loss: 1.2723 - val_accuracy: 0.5562\n",
      "Epoch 3/20\n",
      "313/313 [==============================] - 2s 5ms/step - loss: 1.2769 - accuracy: 0.5441 - val_loss: 1.2086 - val_accuracy: 0.5757\n",
      "Epoch 4/20\n",
      "313/313 [==============================] - 2s 5ms/step - loss: 1.2047 - accuracy: 0.5717 - val_loss: 1.1500 - val_accuracy: 0.6010\n",
      "Epoch 5/20\n",
      "313/313 [==============================] - 2s 5ms/step - loss: 1.1469 - accuracy: 0.5932 - val_loss: 1.1145 - val_accuracy: 0.6131\n",
      "Epoch 6/20\n",
      "313/313 [==============================] - 2s 5ms/step - loss: 1.0967 - accuracy: 0.6125 - val_loss: 1.0882 - val_accuracy: 0.6209\n",
      "Epoch 7/20\n",
      "313/313 [==============================] - 2s 5ms/step - loss: 1.0499 - accuracy: 0.6302 - val_loss: 1.0512 - val_accuracy: 0.6347\n",
      "Epoch 8/20\n",
      "313/313 [==============================] - 2s 5ms/step - loss: 1.0099 - accuracy: 0.6436 - val_loss: 1.0359 - val_accuracy: 0.6370\n",
      "Epoch 9/20\n",
      "313/313 [==============================] - 1s 5ms/step - loss: 0.9795 - accuracy: 0.6529 - val_loss: 1.0108 - val_accuracy: 0.6504\n",
      "Epoch 10/20\n",
      "313/313 [==============================] - 2s 5ms/step - loss: 0.9462 - accuracy: 0.6640 - val_loss: 1.0082 - val_accuracy: 0.6527\n",
      "Epoch 11/20\n",
      "313/313 [==============================] - 1s 5ms/step - loss: 0.9146 - accuracy: 0.6741 - val_loss: 0.9844 - val_accuracy: 0.6588\n",
      "Epoch 12/20\n",
      "313/313 [==============================] - 1s 5ms/step - loss: 0.8802 - accuracy: 0.6860 - val_loss: 0.9850 - val_accuracy: 0.6607\n",
      "Epoch 13/20\n",
      "313/313 [==============================] - 1s 5ms/step - loss: 0.8597 - accuracy: 0.6949 - val_loss: 0.9680 - val_accuracy: 0.6693\n",
      "Epoch 14/20\n",
      "313/313 [==============================] - 1s 5ms/step - loss: 0.8346 - accuracy: 0.7034 - val_loss: 0.9659 - val_accuracy: 0.6690\n",
      "Epoch 15/20\n",
      "313/313 [==============================] - 2s 5ms/step - loss: 0.8078 - accuracy: 0.7148 - val_loss: 0.9625 - val_accuracy: 0.6711\n",
      "Epoch 16/20\n",
      "313/313 [==============================] - 2s 5ms/step - loss: 0.7780 - accuracy: 0.7193 - val_loss: 0.9513 - val_accuracy: 0.6754\n",
      "Epoch 17/20\n",
      "313/313 [==============================] - 2s 5ms/step - loss: 0.7565 - accuracy: 0.7295 - val_loss: 0.9610 - val_accuracy: 0.6754\n",
      "Epoch 18/20\n",
      "313/313 [==============================] - 1s 5ms/step - loss: 0.7436 - accuracy: 0.7328 - val_loss: 0.9447 - val_accuracy: 0.6761\n",
      "Epoch 19/20\n",
      "313/313 [==============================] - 2s 5ms/step - loss: 0.7191 - accuracy: 0.7410 - val_loss: 0.9451 - val_accuracy: 0.6823\n",
      "Epoch 20/20\n",
      "313/313 [==============================] - 1s 5ms/step - loss: 0.7018 - accuracy: 0.7498 - val_loss: 0.9596 - val_accuracy: 0.6743\n"
     ]
    },
    {
     "data": {
      "text/plain": [
       "<tensorflow.python.keras.callbacks.History at 0x7f486835efd0>"
      ]
     },
     "execution_count": 13,
     "metadata": {},
     "output_type": "execute_result"
    }
   ],
   "source": [
    "model.fit(x_train, y_train, batch_size=BATCH_SIZE, epochs=EPOCHS, validation_split=VALIDATION_SPLIT, callbacks=callbacks, verbose = VERBOSE)"
   ]
  },
  {
   "cell_type": "code",
   "execution_count": 15,
   "metadata": {},
   "outputs": [
    {
     "name": "stdout",
     "output_type": "stream",
     "text": [
      "79/79 [==============================] - 0s 2ms/step - loss: 0.9826 - accuracy: 0.6636\n"
     ]
    },
    {
     "data": {
      "text/plain": [
       "[0.9826070070266724, 0.6636000275611877]"
      ]
     },
     "execution_count": 15,
     "metadata": {},
     "output_type": "execute_result"
    }
   ],
   "source": [
    "model.evaluate(x_test, y_test, batch_size = BATCH_SIZE)"
   ]
  },
  {
   "cell_type": "code",
   "execution_count": 16,
   "metadata": {},
   "outputs": [],
   "source": [
    "def build_model():\n",
    "    model = models.Sequential([\n",
    "        # First block\n",
    "        layers.Conv2D(32, (3, 3), padding = 'same', input_shape = x_train.shape[1:], activation='relu'),\n",
    "        layers.BatchNormalization(),\n",
    "        layers.Conv2D(32, (3, 3), padding = 'same', activation='relu'),\n",
    "        layers.BatchNormalization(),\n",
    "        layers.MaxPooling2D(pool_size = (2, 2)),\n",
    "        layers.Dropout(0.2),\n",
    "        \n",
    "        # Second block\n",
    "        layers.Conv2D(64, (3, 3), padding = 'same', activation='relu'),\n",
    "        layers.BatchNormalization(),\n",
    "        layers.Conv2D(64, (3, 3), padding = 'same', activation='relu'),\n",
    "        layers.BatchNormalization(),\n",
    "        layers.MaxPooling2D(pool_size = (2, 2)),\n",
    "        layers.Dropout(0.3),\n",
    "        \n",
    "        # Third block\n",
    "        layers.Conv2D(128, (3, 3), padding = 'same', activation='relu'),\n",
    "        layers.BatchNormalization(),\n",
    "        layers.Conv2D(128, (3, 3), padding = 'same', activation='relu'),\n",
    "        layers.BatchNormalization(),\n",
    "        layers.MaxPooling2D(pool_size = (2, 2)),\n",
    "        layers.Dropout(0.4),\n",
    "        \n",
    "        # Output block\n",
    "        layers.Flatten(),\n",
    "        layers.Dense(CLASSES, activation = 'softmax')\n",
    "    ])\n",
    "    \n",
    "    return model"
   ]
  },
  {
   "cell_type": "code",
   "execution_count": 17,
   "metadata": {},
   "outputs": [],
   "source": [
    "model = build_model()"
   ]
  },
  {
   "cell_type": "code",
   "execution_count": 18,
   "metadata": {},
   "outputs": [
    {
     "name": "stdout",
     "output_type": "stream",
     "text": [
      "Model: \"sequential_1\"\n",
      "_________________________________________________________________\n",
      "Layer (type)                 Output Shape              Param #   \n",
      "=================================================================\n",
      "conv2d_1 (Conv2D)            (None, 32, 32, 32)        896       \n",
      "_________________________________________________________________\n",
      "batch_normalization (BatchNo (None, 32, 32, 32)        128       \n",
      "_________________________________________________________________\n",
      "conv2d_2 (Conv2D)            (None, 32, 32, 32)        9248      \n",
      "_________________________________________________________________\n",
      "batch_normalization_1 (Batch (None, 32, 32, 32)        128       \n",
      "_________________________________________________________________\n",
      "max_pooling2d_1 (MaxPooling2 (None, 16, 16, 32)        0         \n",
      "_________________________________________________________________\n",
      "dropout_2 (Dropout)          (None, 16, 16, 32)        0         \n",
      "_________________________________________________________________\n",
      "conv2d_3 (Conv2D)            (None, 16, 16, 64)        18496     \n",
      "_________________________________________________________________\n",
      "batch_normalization_2 (Batch (None, 16, 16, 64)        256       \n",
      "_________________________________________________________________\n",
      "conv2d_4 (Conv2D)            (None, 16, 16, 64)        36928     \n",
      "_________________________________________________________________\n",
      "batch_normalization_3 (Batch (None, 16, 16, 64)        256       \n",
      "_________________________________________________________________\n",
      "max_pooling2d_2 (MaxPooling2 (None, 8, 8, 64)          0         \n",
      "_________________________________________________________________\n",
      "dropout_3 (Dropout)          (None, 8, 8, 64)          0         \n",
      "_________________________________________________________________\n",
      "conv2d_5 (Conv2D)            (None, 8, 8, 128)         73856     \n",
      "_________________________________________________________________\n",
      "batch_normalization_4 (Batch (None, 8, 8, 128)         512       \n",
      "_________________________________________________________________\n",
      "conv2d_6 (Conv2D)            (None, 8, 8, 128)         147584    \n",
      "_________________________________________________________________\n",
      "batch_normalization_5 (Batch (None, 8, 8, 128)         512       \n",
      "_________________________________________________________________\n",
      "max_pooling2d_3 (MaxPooling2 (None, 4, 4, 128)         0         \n",
      "_________________________________________________________________\n",
      "dropout_4 (Dropout)          (None, 4, 4, 128)         0         \n",
      "_________________________________________________________________\n",
      "flatten_1 (Flatten)          (None, 2048)              0         \n",
      "_________________________________________________________________\n",
      "dense_2 (Dense)              (None, 10)                20490     \n",
      "=================================================================\n",
      "Total params: 309,290\n",
      "Trainable params: 308,394\n",
      "Non-trainable params: 896\n",
      "_________________________________________________________________\n"
     ]
    }
   ],
   "source": [
    "model.summary()"
   ]
  },
  {
   "cell_type": "code",
   "execution_count": 19,
   "metadata": {},
   "outputs": [],
   "source": [
    "model.compile(loss='categorical_crossentropy', optimizer = OPTIMIZER, metrics=['accuracy'])"
   ]
  },
  {
   "cell_type": "code",
   "execution_count": 20,
   "metadata": {},
   "outputs": [],
   "source": [
    "EPOCHS = 50"
   ]
  },
  {
   "cell_type": "code",
   "execution_count": 22,
   "metadata": {},
   "outputs": [],
   "source": [
    "callbacks = [ keras.callbacks.TensorBoard(log_dir='../logs/CIFAR100_DEEP')]"
   ]
  },
  {
   "cell_type": "code",
   "execution_count": 23,
   "metadata": {},
   "outputs": [
    {
     "name": "stdout",
     "output_type": "stream",
     "text": [
      "Epoch 1/50\n",
      "  2/313 [..............................] - ETA: 11s - loss: 0.4514 - accuracy: 0.8594WARNING:tensorflow:Callbacks method `on_train_batch_end` is slow compared to the batch time (batch time: 0.0068s vs `on_train_batch_end` time: 0.0572s). Check your callbacks.\n",
      "313/313 [==============================] - 5s 15ms/step - loss: 0.5818 - accuracy: 0.8001 - val_loss: 0.6347 - val_accuracy: 0.7851\n",
      "Epoch 2/50\n",
      "313/313 [==============================] - 5s 15ms/step - loss: 0.5396 - accuracy: 0.8105 - val_loss: 0.6112 - val_accuracy: 0.7927\n",
      "Epoch 3/50\n",
      "313/313 [==============================] - 5s 15ms/step - loss: 0.5167 - accuracy: 0.8187 - val_loss: 0.6369 - val_accuracy: 0.7884\n",
      "Epoch 4/50\n",
      "313/313 [==============================] - 5s 15ms/step - loss: 0.4867 - accuracy: 0.8272 - val_loss: 0.5709 - val_accuracy: 0.8037\n",
      "Epoch 5/50\n",
      "313/313 [==============================] - 5s 15ms/step - loss: 0.4608 - accuracy: 0.8382 - val_loss: 0.5528 - val_accuracy: 0.8141\n",
      "Epoch 6/50\n",
      "313/313 [==============================] - 5s 15ms/step - loss: 0.4387 - accuracy: 0.8450 - val_loss: 0.5976 - val_accuracy: 0.7990\n",
      "Epoch 7/50\n",
      "313/313 [==============================] - 5s 15ms/step - loss: 0.4163 - accuracy: 0.8524 - val_loss: 0.5684 - val_accuracy: 0.8089\n",
      "Epoch 8/50\n",
      "313/313 [==============================] - 5s 15ms/step - loss: 0.4021 - accuracy: 0.8578 - val_loss: 0.5798 - val_accuracy: 0.8046\n",
      "Epoch 9/50\n",
      "313/313 [==============================] - 5s 15ms/step - loss: 0.3869 - accuracy: 0.8632 - val_loss: 0.5547 - val_accuracy: 0.8161\n",
      "Epoch 10/50\n",
      "313/313 [==============================] - 5s 15ms/step - loss: 0.3711 - accuracy: 0.8672 - val_loss: 0.5838 - val_accuracy: 0.8105\n",
      "Epoch 11/50\n",
      "313/313 [==============================] - 5s 15ms/step - loss: 0.3525 - accuracy: 0.8734 - val_loss: 0.5734 - val_accuracy: 0.8149\n",
      "Epoch 12/50\n",
      "313/313 [==============================] - 5s 15ms/step - loss: 0.3373 - accuracy: 0.8786 - val_loss: 0.5735 - val_accuracy: 0.8174\n",
      "Epoch 13/50\n",
      "313/313 [==============================] - 5s 15ms/step - loss: 0.3275 - accuracy: 0.8827 - val_loss: 0.5303 - val_accuracy: 0.8284\n",
      "Epoch 14/50\n",
      "313/313 [==============================] - 4s 14ms/step - loss: 0.3108 - accuracy: 0.8899 - val_loss: 0.5859 - val_accuracy: 0.8155\n",
      "Epoch 15/50\n",
      "313/313 [==============================] - 5s 15ms/step - loss: 0.3072 - accuracy: 0.8893 - val_loss: 0.5919 - val_accuracy: 0.8126\n",
      "Epoch 16/50\n",
      "313/313 [==============================] - 5s 15ms/step - loss: 0.2953 - accuracy: 0.8928 - val_loss: 0.5896 - val_accuracy: 0.8205\n",
      "Epoch 17/50\n",
      "313/313 [==============================] - 5s 14ms/step - loss: 0.2854 - accuracy: 0.8986 - val_loss: 0.6170 - val_accuracy: 0.8119\n",
      "Epoch 18/50\n",
      "313/313 [==============================] - 5s 15ms/step - loss: 0.2757 - accuracy: 0.9018 - val_loss: 0.6578 - val_accuracy: 0.7984\n",
      "Epoch 19/50\n",
      "313/313 [==============================] - 5s 15ms/step - loss: 0.2670 - accuracy: 0.9046 - val_loss: 0.5626 - val_accuracy: 0.8307\n",
      "Epoch 20/50\n",
      "313/313 [==============================] - 5s 15ms/step - loss: 0.2585 - accuracy: 0.9057 - val_loss: 0.5400 - val_accuracy: 0.8316\n",
      "Epoch 21/50\n",
      "313/313 [==============================] - 5s 15ms/step - loss: 0.2545 - accuracy: 0.9086 - val_loss: 0.5726 - val_accuracy: 0.8228\n",
      "Epoch 22/50\n",
      "313/313 [==============================] - 5s 15ms/step - loss: 0.2508 - accuracy: 0.9091 - val_loss: 0.5929 - val_accuracy: 0.8262\n",
      "Epoch 23/50\n",
      "313/313 [==============================] - 5s 15ms/step - loss: 0.2404 - accuracy: 0.9129 - val_loss: 0.5830 - val_accuracy: 0.8257\n",
      "Epoch 24/50\n",
      "313/313 [==============================] - 5s 15ms/step - loss: 0.2377 - accuracy: 0.9137 - val_loss: 0.5560 - val_accuracy: 0.8352\n",
      "Epoch 25/50\n",
      "313/313 [==============================] - 5s 15ms/step - loss: 0.2269 - accuracy: 0.9172 - val_loss: 0.5703 - val_accuracy: 0.8316\n",
      "Epoch 26/50\n",
      "313/313 [==============================] - 5s 15ms/step - loss: 0.2248 - accuracy: 0.9191 - val_loss: 0.5638 - val_accuracy: 0.8367\n",
      "Epoch 27/50\n",
      "313/313 [==============================] - 5s 15ms/step - loss: 0.2188 - accuracy: 0.9213 - val_loss: 0.5546 - val_accuracy: 0.8385\n",
      "Epoch 28/50\n",
      "313/313 [==============================] - 5s 15ms/step - loss: 0.2116 - accuracy: 0.9229 - val_loss: 0.5616 - val_accuracy: 0.8342\n",
      "Epoch 29/50\n",
      "313/313 [==============================] - 5s 15ms/step - loss: 0.2158 - accuracy: 0.9228 - val_loss: 0.5938 - val_accuracy: 0.8333\n",
      "Epoch 30/50\n",
      "313/313 [==============================] - 5s 15ms/step - loss: 0.2096 - accuracy: 0.9235 - val_loss: 0.5744 - val_accuracy: 0.8332\n",
      "Epoch 31/50\n",
      "313/313 [==============================] - 5s 15ms/step - loss: 0.2023 - accuracy: 0.9271 - val_loss: 0.5541 - val_accuracy: 0.8402\n",
      "Epoch 32/50\n",
      "313/313 [==============================] - 4s 14ms/step - loss: 0.1954 - accuracy: 0.9291 - val_loss: 0.6131 - val_accuracy: 0.8294\n",
      "Epoch 33/50\n",
      "313/313 [==============================] - 4s 14ms/step - loss: 0.1978 - accuracy: 0.9289 - val_loss: 0.5793 - val_accuracy: 0.8370\n",
      "Epoch 34/50\n",
      "313/313 [==============================] - 4s 14ms/step - loss: 0.1919 - accuracy: 0.9301 - val_loss: 0.6300 - val_accuracy: 0.8275\n",
      "Epoch 35/50\n",
      "313/313 [==============================] - 5s 15ms/step - loss: 0.1877 - accuracy: 0.9322 - val_loss: 0.5530 - val_accuracy: 0.8419\n",
      "Epoch 36/50\n",
      "313/313 [==============================] - 4s 14ms/step - loss: 0.1837 - accuracy: 0.9342 - val_loss: 0.5890 - val_accuracy: 0.8393\n",
      "Epoch 37/50\n",
      "313/313 [==============================] - 4s 14ms/step - loss: 0.1868 - accuracy: 0.9326 - val_loss: 0.6065 - val_accuracy: 0.8326\n",
      "Epoch 38/50\n",
      "313/313 [==============================] - 5s 14ms/step - loss: 0.1778 - accuracy: 0.9353 - val_loss: 0.5912 - val_accuracy: 0.8372\n",
      "Epoch 39/50\n",
      "313/313 [==============================] - 5s 14ms/step - loss: 0.1700 - accuracy: 0.9390 - val_loss: 0.6152 - val_accuracy: 0.8367\n",
      "Epoch 40/50\n",
      "313/313 [==============================] - 5s 14ms/step - loss: 0.1740 - accuracy: 0.9377 - val_loss: 0.6519 - val_accuracy: 0.8277\n",
      "Epoch 41/50\n",
      "313/313 [==============================] - 5s 15ms/step - loss: 0.1709 - accuracy: 0.9386 - val_loss: 0.5859 - val_accuracy: 0.8418\n",
      "Epoch 42/50\n",
      "313/313 [==============================] - 5s 15ms/step - loss: 0.1694 - accuracy: 0.9401 - val_loss: 0.5881 - val_accuracy: 0.8404\n",
      "Epoch 43/50\n",
      "313/313 [==============================] - 5s 15ms/step - loss: 0.1649 - accuracy: 0.9409 - val_loss: 0.6128 - val_accuracy: 0.8343\n",
      "Epoch 44/50\n",
      "313/313 [==============================] - 5s 15ms/step - loss: 0.1617 - accuracy: 0.9413 - val_loss: 0.6315 - val_accuracy: 0.8388\n",
      "Epoch 45/50\n",
      "313/313 [==============================] - 5s 15ms/step - loss: 0.1613 - accuracy: 0.9436 - val_loss: 0.6128 - val_accuracy: 0.8369\n",
      "Epoch 46/50\n",
      "313/313 [==============================] - 5s 15ms/step - loss: 0.1554 - accuracy: 0.9437 - val_loss: 0.6243 - val_accuracy: 0.8358\n",
      "Epoch 47/50\n",
      "313/313 [==============================] - 5s 15ms/step - loss: 0.1582 - accuracy: 0.9419 - val_loss: 0.6228 - val_accuracy: 0.8403\n",
      "Epoch 48/50\n",
      "313/313 [==============================] - 5s 15ms/step - loss: 0.1532 - accuracy: 0.9444 - val_loss: 0.6923 - val_accuracy: 0.8183\n",
      "Epoch 49/50\n",
      "313/313 [==============================] - 5s 15ms/step - loss: 0.1539 - accuracy: 0.9440 - val_loss: 0.6030 - val_accuracy: 0.8414\n",
      "Epoch 50/50\n",
      "313/313 [==============================] - 5s 15ms/step - loss: 0.1491 - accuracy: 0.9462 - val_loss: 0.7546 - val_accuracy: 0.8130\n"
     ]
    }
   ],
   "source": [
    "history = model.fit(x_train, y_train, batch_size=BATCH_SIZE, epochs=EPOCHS, validation_split=VALIDATION_SPLIT, callbacks=callbacks)"
   ]
  },
  {
   "cell_type": "code",
   "execution_count": 25,
   "metadata": {},
   "outputs": [
    {
     "name": "stdout",
     "output_type": "stream",
     "text": [
      "79/79 [==============================] - 0s 4ms/step - loss: 0.7681 - accuracy: 0.8074\n"
     ]
    }
   ],
   "source": [
    "score = model.evaluate(x_test, y_test, batch_size=BATCH_SIZE)"
   ]
  },
  {
   "cell_type": "code",
   "execution_count": 26,
   "metadata": {},
   "outputs": [
    {
     "name": "stdout",
     "output_type": "stream",
     "text": [
      "0.768068253993988 0.8073999881744385\n"
     ]
    }
   ],
   "source": [
    "print(score[0], score[1])"
   ]
  },
  {
   "cell_type": "code",
   "execution_count": 27,
   "metadata": {},
   "outputs": [],
   "source": [
    "keras.backend.clear_session()"
   ]
  },
  {
   "cell_type": "code",
   "execution_count": 28,
   "metadata": {},
   "outputs": [],
   "source": [
    "datagen = keras.preprocessing.image.ImageDataGenerator(rotation_range = 30, width_shift_range=0.2, height_shift_range=0.2, horizontal_flip=True,)\n",
    "datagen.fit(x_train)"
   ]
  },
  {
   "cell_type": "code",
   "execution_count": 30,
   "metadata": {},
   "outputs": [],
   "source": [
    "BATCH_SIZE = 64"
   ]
  },
  {
   "cell_type": "code",
   "execution_count": 31,
   "metadata": {},
   "outputs": [
    {
     "name": "stdout",
     "output_type": "stream",
     "text": [
      "WARNING:tensorflow:From <ipython-input-31-40a08dfa68c2>:1: Model.fit_generator (from tensorflow.python.keras.engine.training) is deprecated and will be removed in a future version.\n",
      "Instructions for updating:\n",
      "Please use Model.fit, which supports generators.\n",
      "Epoch 1/50\n",
      "782/782 [==============================] - 14s 18ms/step - loss: 1.0013 - accuracy: 0.6672 - val_loss: 0.6564 - val_accuracy: 0.7832\n",
      "Epoch 2/50\n",
      "782/782 [==============================] - 14s 18ms/step - loss: 0.8448 - accuracy: 0.7049 - val_loss: 0.6766 - val_accuracy: 0.7766\n",
      "Epoch 3/50\n",
      "782/782 [==============================] - 15s 19ms/step - loss: 0.8089 - accuracy: 0.7208 - val_loss: 0.7642 - val_accuracy: 0.7534\n",
      "Epoch 4/50\n",
      "782/782 [==============================] - 14s 18ms/step - loss: 0.7831 - accuracy: 0.7292 - val_loss: 0.6028 - val_accuracy: 0.8004\n",
      "Epoch 5/50\n",
      "782/782 [==============================] - 15s 19ms/step - loss: 0.7566 - accuracy: 0.7375 - val_loss: 0.6753 - val_accuracy: 0.7851\n",
      "Epoch 6/50\n",
      "782/782 [==============================] - 14s 18ms/step - loss: 0.7500 - accuracy: 0.7399 - val_loss: 0.6812 - val_accuracy: 0.7743\n",
      "Epoch 7/50\n",
      "782/782 [==============================] - 14s 19ms/step - loss: 0.7310 - accuracy: 0.7459 - val_loss: 0.6598 - val_accuracy: 0.7870\n",
      "Epoch 8/50\n",
      "782/782 [==============================] - 14s 18ms/step - loss: 0.7174 - accuracy: 0.7510 - val_loss: 0.6602 - val_accuracy: 0.7905\n",
      "Epoch 9/50\n",
      "782/782 [==============================] - 14s 18ms/step - loss: 0.7081 - accuracy: 0.7552 - val_loss: 0.6358 - val_accuracy: 0.7898\n",
      "Epoch 10/50\n",
      "782/782 [==============================] - 15s 19ms/step - loss: 0.6991 - accuracy: 0.7586 - val_loss: 0.5929 - val_accuracy: 0.8067\n",
      "Epoch 11/50\n",
      "782/782 [==============================] - 15s 19ms/step - loss: 0.6843 - accuracy: 0.7620 - val_loss: 0.6096 - val_accuracy: 0.8034\n",
      "Epoch 12/50\n",
      "782/782 [==============================] - 14s 18ms/step - loss: 0.6776 - accuracy: 0.7668 - val_loss: 0.6714 - val_accuracy: 0.7841\n",
      "Epoch 13/50\n",
      "782/782 [==============================] - 14s 18ms/step - loss: 0.6721 - accuracy: 0.7677 - val_loss: 0.7212 - val_accuracy: 0.7729\n",
      "Epoch 14/50\n",
      "782/782 [==============================] - 14s 18ms/step - loss: 0.6638 - accuracy: 0.7707 - val_loss: 0.5216 - val_accuracy: 0.8274\n",
      "Epoch 15/50\n",
      "782/782 [==============================] - 14s 18ms/step - loss: 0.6502 - accuracy: 0.7756 - val_loss: 0.5925 - val_accuracy: 0.8045\n",
      "Epoch 16/50\n",
      "782/782 [==============================] - 14s 18ms/step - loss: 0.6464 - accuracy: 0.7766 - val_loss: 0.5903 - val_accuracy: 0.8034\n",
      "Epoch 17/50\n",
      "782/782 [==============================] - 14s 18ms/step - loss: 0.6394 - accuracy: 0.7795 - val_loss: 0.6156 - val_accuracy: 0.8030\n",
      "Epoch 18/50\n",
      "782/782 [==============================] - 14s 18ms/step - loss: 0.6410 - accuracy: 0.7795 - val_loss: 0.5516 - val_accuracy: 0.8186\n",
      "Epoch 19/50\n",
      "782/782 [==============================] - 14s 18ms/step - loss: 0.6279 - accuracy: 0.7819 - val_loss: 0.5585 - val_accuracy: 0.8223\n",
      "Epoch 20/50\n",
      "782/782 [==============================] - 14s 18ms/step - loss: 0.6168 - accuracy: 0.7859 - val_loss: 0.4971 - val_accuracy: 0.8391\n",
      "Epoch 21/50\n",
      "782/782 [==============================] - 14s 18ms/step - loss: 0.6177 - accuracy: 0.7859 - val_loss: 0.5237 - val_accuracy: 0.8299\n",
      "Epoch 22/50\n",
      "782/782 [==============================] - 14s 18ms/step - loss: 0.6140 - accuracy: 0.7876 - val_loss: 0.5746 - val_accuracy: 0.8129\n",
      "Epoch 23/50\n",
      "782/782 [==============================] - 14s 18ms/step - loss: 0.6102 - accuracy: 0.7859 - val_loss: 0.6121 - val_accuracy: 0.8100\n",
      "Epoch 24/50\n",
      "782/782 [==============================] - 14s 18ms/step - loss: 0.6062 - accuracy: 0.7894 - val_loss: 0.5397 - val_accuracy: 0.8229\n",
      "Epoch 25/50\n",
      "782/782 [==============================] - 14s 18ms/step - loss: 0.6050 - accuracy: 0.7892 - val_loss: 0.5285 - val_accuracy: 0.8269\n",
      "Epoch 26/50\n",
      "782/782 [==============================] - 14s 18ms/step - loss: 0.5985 - accuracy: 0.7932 - val_loss: 0.5187 - val_accuracy: 0.8352\n",
      "Epoch 27/50\n",
      "782/782 [==============================] - 14s 18ms/step - loss: 0.5889 - accuracy: 0.7977 - val_loss: 0.5480 - val_accuracy: 0.8191\n",
      "Epoch 28/50\n",
      "782/782 [==============================] - 14s 18ms/step - loss: 0.5898 - accuracy: 0.7946 - val_loss: 0.4845 - val_accuracy: 0.8386\n",
      "Epoch 29/50\n",
      "782/782 [==============================] - 14s 18ms/step - loss: 0.5844 - accuracy: 0.7988 - val_loss: 0.4994 - val_accuracy: 0.8369\n",
      "Epoch 30/50\n",
      "782/782 [==============================] - 14s 18ms/step - loss: 0.5838 - accuracy: 0.7983 - val_loss: 0.4619 - val_accuracy: 0.8463\n",
      "Epoch 31/50\n",
      "782/782 [==============================] - 14s 18ms/step - loss: 0.5783 - accuracy: 0.7989 - val_loss: 0.5516 - val_accuracy: 0.8255\n",
      "Epoch 32/50\n",
      "782/782 [==============================] - 14s 18ms/step - loss: 0.5760 - accuracy: 0.8019 - val_loss: 0.5838 - val_accuracy: 0.8159\n",
      "Epoch 33/50\n",
      "782/782 [==============================] - 14s 18ms/step - loss: 0.5764 - accuracy: 0.8013 - val_loss: 0.4664 - val_accuracy: 0.8459\n",
      "Epoch 34/50\n",
      "782/782 [==============================] - 14s 18ms/step - loss: 0.5711 - accuracy: 0.8024 - val_loss: 0.5013 - val_accuracy: 0.8361\n",
      "Epoch 35/50\n",
      "782/782 [==============================] - 14s 18ms/step - loss: 0.5662 - accuracy: 0.8051 - val_loss: 0.5271 - val_accuracy: 0.8339\n",
      "Epoch 36/50\n",
      "782/782 [==============================] - 14s 18ms/step - loss: 0.5691 - accuracy: 0.8012 - val_loss: 0.5709 - val_accuracy: 0.8149\n",
      "Epoch 37/50\n",
      "782/782 [==============================] - 14s 18ms/step - loss: 0.5566 - accuracy: 0.8086 - val_loss: 0.4917 - val_accuracy: 0.8401\n",
      "Epoch 38/50\n",
      "782/782 [==============================] - 14s 18ms/step - loss: 0.5537 - accuracy: 0.8095 - val_loss: 0.5188 - val_accuracy: 0.8290\n",
      "Epoch 39/50\n",
      "782/782 [==============================] - 14s 18ms/step - loss: 0.5527 - accuracy: 0.8090 - val_loss: 0.4892 - val_accuracy: 0.8453\n",
      "Epoch 40/50\n",
      "782/782 [==============================] - 14s 19ms/step - loss: 0.5568 - accuracy: 0.8068 - val_loss: 0.4980 - val_accuracy: 0.8350\n",
      "Epoch 41/50\n",
      "782/782 [==============================] - 14s 18ms/step - loss: 0.5416 - accuracy: 0.8125 - val_loss: 0.5720 - val_accuracy: 0.8168\n",
      "Epoch 42/50\n",
      "782/782 [==============================] - 14s 18ms/step - loss: 0.5509 - accuracy: 0.8103 - val_loss: 0.4530 - val_accuracy: 0.8490\n",
      "Epoch 43/50\n",
      "782/782 [==============================] - 14s 18ms/step - loss: 0.5419 - accuracy: 0.8134 - val_loss: 0.5205 - val_accuracy: 0.8341\n",
      "Epoch 44/50\n",
      "782/782 [==============================] - 14s 18ms/step - loss: 0.5409 - accuracy: 0.8121 - val_loss: 0.5023 - val_accuracy: 0.8383\n",
      "Epoch 45/50\n",
      "782/782 [==============================] - 14s 18ms/step - loss: 0.5447 - accuracy: 0.8121 - val_loss: 0.5703 - val_accuracy: 0.8197\n",
      "Epoch 46/50\n",
      "782/782 [==============================] - 14s 18ms/step - loss: 0.5364 - accuracy: 0.8137 - val_loss: 0.4977 - val_accuracy: 0.8409\n",
      "Epoch 47/50\n",
      "782/782 [==============================] - 14s 18ms/step - loss: 0.5281 - accuracy: 0.8171 - val_loss: 0.6052 - val_accuracy: 0.8060\n",
      "Epoch 48/50\n",
      "782/782 [==============================] - 14s 18ms/step - loss: 0.5312 - accuracy: 0.8173 - val_loss: 0.5403 - val_accuracy: 0.8312\n",
      "Epoch 49/50\n",
      "782/782 [==============================] - 14s 18ms/step - loss: 0.5327 - accuracy: 0.8142 - val_loss: 0.5630 - val_accuracy: 0.8208\n",
      "Epoch 50/50\n",
      "782/782 [==============================] - 14s 18ms/step - loss: 0.5305 - accuracy: 0.8171 - val_loss: 0.4821 - val_accuracy: 0.8472\n"
     ]
    },
    {
     "data": {
      "text/plain": [
       "<tensorflow.python.keras.callbacks.History at 0x7f486408e460>"
      ]
     },
     "execution_count": 31,
     "metadata": {},
     "output_type": "execute_result"
    }
   ],
   "source": [
    "model.fit_generator(datagen.flow(x_train, y_train, batch_size=BATCH_SIZE), epochs=EPOCHS, verbose=VERBOSE, validation_data=(x_test, y_test))"
   ]
  },
  {
   "cell_type": "code",
   "execution_count": 37,
   "metadata": {},
   "outputs": [],
   "source": [
    "if not os.path.exists('../models'):\n",
    "    os.mkdir('../models')\n",
    "    \n",
    "if not os.path.exists('../models/json'):\n",
    "    os.mkdir('../models/json')\n",
    "\n",
    "if not os.path.exists('../models/h5'):\n",
    "    os.mkdir('../models/h5')"
   ]
  },
  {
   "cell_type": "code",
   "execution_count": 39,
   "metadata": {},
   "outputs": [],
   "source": [
    "model_json = model.to_json()\n",
    "with open('../models/json/model.json', 'w') as json_file:\n",
    "    json_file.write(model_json)\n",
    "model.save_weights('../models/h5/model.h5')"
   ]
  },
  {
   "cell_type": "code",
   "execution_count": 40,
   "metadata": {},
   "outputs": [
    {
     "name": "stdout",
     "output_type": "stream",
     "text": [
      "79/79 [==============================] - 0s 5ms/step - loss: 0.4821 - accuracy: 0.8472\n"
     ]
    }
   ],
   "source": [
    "score = model.evaluate(x_test, y_test, batch_size = 128)"
   ]
  },
  {
   "cell_type": "code",
   "execution_count": 41,
   "metadata": {},
   "outputs": [
    {
     "name": "stdout",
     "output_type": "stream",
     "text": [
      "\n",
      "Test result: 84.720 loss: 0.482\n"
     ]
    }
   ],
   "source": [
    "print('\\nTest result: %.3f loss: %.3f'%(score[1]*100, score[0]))"
   ]
  },
  {
   "cell_type": "code",
   "execution_count": 88,
   "metadata": {},
   "outputs": [],
   "source": [
    "import scipy.misc"
   ]
  },
  {
   "cell_type": "code",
   "execution_count": 89,
   "metadata": {},
   "outputs": [],
   "source": [
    "from keras.models import model_from_json\n",
    "from keras.optimizers import Adam\n",
    "from skimage.transform import resize\n",
    "from imageio import imread"
   ]
  },
  {
   "cell_type": "code",
   "execution_count": 90,
   "metadata": {},
   "outputs": [
    {
     "ename": "NameError",
     "evalue": "name 'model' is not defined",
     "output_type": "error",
     "traceback": [
      "\u001b[0;31m---------------------------------------------------------------------------\u001b[0m",
      "\u001b[0;31mNameError\u001b[0m                                 Traceback (most recent call last)",
      "\u001b[0;32m<ipython-input-90-a7ab210f85a1>\u001b[0m in \u001b[0;36m<module>\u001b[0;34m\u001b[0m\n\u001b[0;32m----> 1\u001b[0;31m \u001b[0;32mdel\u001b[0m \u001b[0mmodel\u001b[0m\u001b[0;34m\u001b[0m\u001b[0;34m\u001b[0m\u001b[0m\n\u001b[0m",
      "\u001b[0;31mNameError\u001b[0m: name 'model' is not defined"
     ]
    }
   ],
   "source": [
    "del model"
   ]
  },
  {
   "cell_type": "code",
   "execution_count": 91,
   "metadata": {},
   "outputs": [],
   "source": [
    "model_architecture = '../models/json/cifar10_architecture.json'\n",
    "model_weights = '../models/h5/cifar10_weights.h5'"
   ]
  },
  {
   "cell_type": "code",
   "execution_count": 92,
   "metadata": {},
   "outputs": [],
   "source": [
    "model = model_from_json(open(model_architecture).read())"
   ]
  },
  {
   "cell_type": "code",
   "execution_count": 93,
   "metadata": {},
   "outputs": [],
   "source": [
    "model.load_weights(model_weights)"
   ]
  },
  {
   "cell_type": "code",
   "execution_count": 94,
   "metadata": {},
   "outputs": [],
   "source": [
    "img_names=['../dataset/image/cat.jpg', '../dataset/image/dog.jpg']"
   ]
  },
  {
   "cell_type": "code",
   "execution_count": 95,
   "metadata": {},
   "outputs": [],
   "source": [
    "imgs = [np.transpose(resize(imread(img_name), (32, 32)), (2, 0, 1)).astype('float32') for img_name in img_names]"
   ]
  },
  {
   "cell_type": "code",
   "execution_count": 96,
   "metadata": {},
   "outputs": [],
   "source": [
    "imgs = np.array(imgs) / 255"
   ]
  },
  {
   "cell_type": "code",
   "execution_count": 97,
   "metadata": {},
   "outputs": [
    {
     "name": "stdout",
     "output_type": "stream",
     "text": [
      "imgs.shape: (2, 3, 32, 32)\n"
     ]
    }
   ],
   "source": [
    "print('imgs.shape:', imgs.shape)"
   ]
  },
  {
   "cell_type": "code",
   "execution_count": 98,
   "metadata": {},
   "outputs": [],
   "source": [
    "model.compile(loss='categorical_crossentropy', optimizer=OPTIMIZER, metrics=['accuracy'])"
   ]
  },
  {
   "cell_type": "code",
   "execution_count": 99,
   "metadata": {},
   "outputs": [
    {
     "ename": "ValueError",
     "evalue": "in user code:\n\n    /home/methodfunc/envs/tf2/lib/python3.8/site-packages/tensorflow/python/keras/engine/training.py:1462 predict_function  *\n        return step_function(self, iterator)\n    /home/methodfunc/envs/tf2/lib/python3.8/site-packages/tensorflow/python/keras/engine/training.py:1452 step_function  **\n        outputs = model.distribute_strategy.run(run_step, args=(data,))\n    /home/methodfunc/envs/tf2/lib/python3.8/site-packages/tensorflow/python/distribute/distribute_lib.py:1211 run\n        return self._extended.call_for_each_replica(fn, args=args, kwargs=kwargs)\n    /home/methodfunc/envs/tf2/lib/python3.8/site-packages/tensorflow/python/distribute/distribute_lib.py:2585 call_for_each_replica\n        return self._call_for_each_replica(fn, args, kwargs)\n    /home/methodfunc/envs/tf2/lib/python3.8/site-packages/tensorflow/python/distribute/distribute_lib.py:2945 _call_for_each_replica\n        return fn(*args, **kwargs)\n    /home/methodfunc/envs/tf2/lib/python3.8/site-packages/tensorflow/python/keras/engine/training.py:1445 run_step  **\n        outputs = model.predict_step(data)\n    /home/methodfunc/envs/tf2/lib/python3.8/site-packages/tensorflow/python/keras/engine/training.py:1418 predict_step\n        return self(x, training=False)\n    /home/methodfunc/envs/tf2/lib/python3.8/site-packages/tensorflow/python/keras/engine/base_layer.py:975 __call__\n        input_spec.assert_input_compatibility(self.input_spec, inputs,\n    /home/methodfunc/envs/tf2/lib/python3.8/site-packages/tensorflow/python/keras/engine/input_spec.py:212 assert_input_compatibility\n        raise ValueError(\n\n    ValueError: Input 0 of layer sequential_1 is incompatible with the layer: expected axis -1 of input shape to have value 3 but received input with shape [None, 3, 32, 32]\n",
     "output_type": "error",
     "traceback": [
      "\u001b[0;31m---------------------------------------------------------------------------\u001b[0m",
      "\u001b[0;31mValueError\u001b[0m                                Traceback (most recent call last)",
      "\u001b[0;32m<ipython-input-99-8ca7b548508b>\u001b[0m in \u001b[0;36m<module>\u001b[0;34m\u001b[0m\n\u001b[0;32m----> 1\u001b[0;31m \u001b[0mpredictions\u001b[0m \u001b[0;34m=\u001b[0m \u001b[0mmodel\u001b[0m\u001b[0;34m.\u001b[0m\u001b[0mpredict_classes\u001b[0m\u001b[0;34m(\u001b[0m\u001b[0mimgs\u001b[0m\u001b[0;34m)\u001b[0m\u001b[0;34m\u001b[0m\u001b[0;34m\u001b[0m\u001b[0m\n\u001b[0m\u001b[1;32m      2\u001b[0m \u001b[0;31m# print(predictions)\u001b[0m\u001b[0;34m\u001b[0m\u001b[0;34m\u001b[0m\u001b[0;34m\u001b[0m\u001b[0m\n",
      "\u001b[0;32m~/envs/tf2/lib/python3.8/site-packages/tensorflow/python/util/deprecation.py\u001b[0m in \u001b[0;36mnew_func\u001b[0;34m(*args, **kwargs)\u001b[0m\n\u001b[1;32m    322\u001b[0m               \u001b[0;34m'in a future version'\u001b[0m \u001b[0;32mif\u001b[0m \u001b[0mdate\u001b[0m \u001b[0;32mis\u001b[0m \u001b[0;32mNone\u001b[0m \u001b[0;32melse\u001b[0m \u001b[0;34m(\u001b[0m\u001b[0;34m'after %s'\u001b[0m \u001b[0;34m%\u001b[0m \u001b[0mdate\u001b[0m\u001b[0;34m)\u001b[0m\u001b[0;34m,\u001b[0m\u001b[0;34m\u001b[0m\u001b[0;34m\u001b[0m\u001b[0m\n\u001b[1;32m    323\u001b[0m               instructions)\n\u001b[0;32m--> 324\u001b[0;31m       \u001b[0;32mreturn\u001b[0m \u001b[0mfunc\u001b[0m\u001b[0;34m(\u001b[0m\u001b[0;34m*\u001b[0m\u001b[0margs\u001b[0m\u001b[0;34m,\u001b[0m \u001b[0;34m**\u001b[0m\u001b[0mkwargs\u001b[0m\u001b[0;34m)\u001b[0m\u001b[0;34m\u001b[0m\u001b[0;34m\u001b[0m\u001b[0m\n\u001b[0m\u001b[1;32m    325\u001b[0m     return tf_decorator.make_decorator(\n\u001b[1;32m    326\u001b[0m         \u001b[0mfunc\u001b[0m\u001b[0;34m,\u001b[0m \u001b[0mnew_func\u001b[0m\u001b[0;34m,\u001b[0m \u001b[0;34m'deprecated'\u001b[0m\u001b[0;34m,\u001b[0m\u001b[0;34m\u001b[0m\u001b[0;34m\u001b[0m\u001b[0m\n",
      "\u001b[0;32m~/envs/tf2/lib/python3.8/site-packages/tensorflow/python/keras/engine/sequential.py\u001b[0m in \u001b[0;36mpredict_classes\u001b[0;34m(self, x, batch_size, verbose)\u001b[0m\n\u001b[1;32m    451\u001b[0m         \u001b[0mA\u001b[0m \u001b[0mnumpy\u001b[0m \u001b[0marray\u001b[0m \u001b[0mof\u001b[0m \u001b[0;32mclass\u001b[0m \u001b[0mpredictions\u001b[0m\u001b[0;34m.\u001b[0m\u001b[0;34m\u001b[0m\u001b[0;34m\u001b[0m\u001b[0m\n\u001b[1;32m    452\u001b[0m     \"\"\"\n\u001b[0;32m--> 453\u001b[0;31m     \u001b[0mproba\u001b[0m \u001b[0;34m=\u001b[0m \u001b[0mself\u001b[0m\u001b[0;34m.\u001b[0m\u001b[0mpredict\u001b[0m\u001b[0;34m(\u001b[0m\u001b[0mx\u001b[0m\u001b[0;34m,\u001b[0m \u001b[0mbatch_size\u001b[0m\u001b[0;34m=\u001b[0m\u001b[0mbatch_size\u001b[0m\u001b[0;34m,\u001b[0m \u001b[0mverbose\u001b[0m\u001b[0;34m=\u001b[0m\u001b[0mverbose\u001b[0m\u001b[0;34m)\u001b[0m\u001b[0;34m\u001b[0m\u001b[0;34m\u001b[0m\u001b[0m\n\u001b[0m\u001b[1;32m    454\u001b[0m     \u001b[0;32mif\u001b[0m \u001b[0mproba\u001b[0m\u001b[0;34m.\u001b[0m\u001b[0mshape\u001b[0m\u001b[0;34m[\u001b[0m\u001b[0;34m-\u001b[0m\u001b[0;36m1\u001b[0m\u001b[0;34m]\u001b[0m \u001b[0;34m>\u001b[0m \u001b[0;36m1\u001b[0m\u001b[0;34m:\u001b[0m\u001b[0;34m\u001b[0m\u001b[0;34m\u001b[0m\u001b[0m\n\u001b[1;32m    455\u001b[0m       \u001b[0;32mreturn\u001b[0m \u001b[0mproba\u001b[0m\u001b[0;34m.\u001b[0m\u001b[0margmax\u001b[0m\u001b[0;34m(\u001b[0m\u001b[0maxis\u001b[0m\u001b[0;34m=\u001b[0m\u001b[0;34m-\u001b[0m\u001b[0;36m1\u001b[0m\u001b[0;34m)\u001b[0m\u001b[0;34m\u001b[0m\u001b[0;34m\u001b[0m\u001b[0m\n",
      "\u001b[0;32m~/envs/tf2/lib/python3.8/site-packages/tensorflow/python/keras/engine/training.py\u001b[0m in \u001b[0;36m_method_wrapper\u001b[0;34m(self, *args, **kwargs)\u001b[0m\n\u001b[1;32m    128\u001b[0m       raise ValueError('{} is not supported in multi-worker mode.'.format(\n\u001b[1;32m    129\u001b[0m           method.__name__))\n\u001b[0;32m--> 130\u001b[0;31m     \u001b[0;32mreturn\u001b[0m \u001b[0mmethod\u001b[0m\u001b[0;34m(\u001b[0m\u001b[0mself\u001b[0m\u001b[0;34m,\u001b[0m \u001b[0;34m*\u001b[0m\u001b[0margs\u001b[0m\u001b[0;34m,\u001b[0m \u001b[0;34m**\u001b[0m\u001b[0mkwargs\u001b[0m\u001b[0;34m)\u001b[0m\u001b[0;34m\u001b[0m\u001b[0;34m\u001b[0m\u001b[0m\n\u001b[0m\u001b[1;32m    131\u001b[0m \u001b[0;34m\u001b[0m\u001b[0m\n\u001b[1;32m    132\u001b[0m   return tf_decorator.make_decorator(\n",
      "\u001b[0;32m~/envs/tf2/lib/python3.8/site-packages/tensorflow/python/keras/engine/training.py\u001b[0m in \u001b[0;36mpredict\u001b[0;34m(self, x, batch_size, verbose, steps, callbacks, max_queue_size, workers, use_multiprocessing)\u001b[0m\n\u001b[1;32m   1597\u001b[0m           \u001b[0;32mfor\u001b[0m \u001b[0mstep\u001b[0m \u001b[0;32min\u001b[0m \u001b[0mdata_handler\u001b[0m\u001b[0;34m.\u001b[0m\u001b[0msteps\u001b[0m\u001b[0;34m(\u001b[0m\u001b[0;34m)\u001b[0m\u001b[0;34m:\u001b[0m\u001b[0;34m\u001b[0m\u001b[0;34m\u001b[0m\u001b[0m\n\u001b[1;32m   1598\u001b[0m             \u001b[0mcallbacks\u001b[0m\u001b[0;34m.\u001b[0m\u001b[0mon_predict_batch_begin\u001b[0m\u001b[0;34m(\u001b[0m\u001b[0mstep\u001b[0m\u001b[0;34m)\u001b[0m\u001b[0;34m\u001b[0m\u001b[0;34m\u001b[0m\u001b[0m\n\u001b[0;32m-> 1599\u001b[0;31m             \u001b[0mtmp_batch_outputs\u001b[0m \u001b[0;34m=\u001b[0m \u001b[0mpredict_function\u001b[0m\u001b[0;34m(\u001b[0m\u001b[0miterator\u001b[0m\u001b[0;34m)\u001b[0m\u001b[0;34m\u001b[0m\u001b[0;34m\u001b[0m\u001b[0m\n\u001b[0m\u001b[1;32m   1600\u001b[0m             \u001b[0;32mif\u001b[0m \u001b[0mdata_handler\u001b[0m\u001b[0;34m.\u001b[0m\u001b[0mshould_sync\u001b[0m\u001b[0;34m:\u001b[0m\u001b[0;34m\u001b[0m\u001b[0;34m\u001b[0m\u001b[0m\n\u001b[1;32m   1601\u001b[0m               \u001b[0mcontext\u001b[0m\u001b[0;34m.\u001b[0m\u001b[0masync_wait\u001b[0m\u001b[0;34m(\u001b[0m\u001b[0;34m)\u001b[0m\u001b[0;34m\u001b[0m\u001b[0;34m\u001b[0m\u001b[0m\n",
      "\u001b[0;32m~/envs/tf2/lib/python3.8/site-packages/tensorflow/python/eager/def_function.py\u001b[0m in \u001b[0;36m__call__\u001b[0;34m(self, *args, **kwds)\u001b[0m\n\u001b[1;32m    778\u001b[0m       \u001b[0;32melse\u001b[0m\u001b[0;34m:\u001b[0m\u001b[0;34m\u001b[0m\u001b[0;34m\u001b[0m\u001b[0m\n\u001b[1;32m    779\u001b[0m         \u001b[0mcompiler\u001b[0m \u001b[0;34m=\u001b[0m \u001b[0;34m\"nonXla\"\u001b[0m\u001b[0;34m\u001b[0m\u001b[0;34m\u001b[0m\u001b[0m\n\u001b[0;32m--> 780\u001b[0;31m         \u001b[0mresult\u001b[0m \u001b[0;34m=\u001b[0m \u001b[0mself\u001b[0m\u001b[0;34m.\u001b[0m\u001b[0m_call\u001b[0m\u001b[0;34m(\u001b[0m\u001b[0;34m*\u001b[0m\u001b[0margs\u001b[0m\u001b[0;34m,\u001b[0m \u001b[0;34m**\u001b[0m\u001b[0mkwds\u001b[0m\u001b[0;34m)\u001b[0m\u001b[0;34m\u001b[0m\u001b[0;34m\u001b[0m\u001b[0m\n\u001b[0m\u001b[1;32m    781\u001b[0m \u001b[0;34m\u001b[0m\u001b[0m\n\u001b[1;32m    782\u001b[0m       \u001b[0mnew_tracing_count\u001b[0m \u001b[0;34m=\u001b[0m \u001b[0mself\u001b[0m\u001b[0;34m.\u001b[0m\u001b[0m_get_tracing_count\u001b[0m\u001b[0;34m(\u001b[0m\u001b[0;34m)\u001b[0m\u001b[0;34m\u001b[0m\u001b[0;34m\u001b[0m\u001b[0m\n",
      "\u001b[0;32m~/envs/tf2/lib/python3.8/site-packages/tensorflow/python/eager/def_function.py\u001b[0m in \u001b[0;36m_call\u001b[0;34m(self, *args, **kwds)\u001b[0m\n\u001b[1;32m    821\u001b[0m       \u001b[0;31m# This is the first call of __call__, so we have to initialize.\u001b[0m\u001b[0;34m\u001b[0m\u001b[0;34m\u001b[0m\u001b[0;34m\u001b[0m\u001b[0m\n\u001b[1;32m    822\u001b[0m       \u001b[0minitializers\u001b[0m \u001b[0;34m=\u001b[0m \u001b[0;34m[\u001b[0m\u001b[0;34m]\u001b[0m\u001b[0;34m\u001b[0m\u001b[0;34m\u001b[0m\u001b[0m\n\u001b[0;32m--> 823\u001b[0;31m       \u001b[0mself\u001b[0m\u001b[0;34m.\u001b[0m\u001b[0m_initialize\u001b[0m\u001b[0;34m(\u001b[0m\u001b[0margs\u001b[0m\u001b[0;34m,\u001b[0m \u001b[0mkwds\u001b[0m\u001b[0;34m,\u001b[0m \u001b[0madd_initializers_to\u001b[0m\u001b[0;34m=\u001b[0m\u001b[0minitializers\u001b[0m\u001b[0;34m)\u001b[0m\u001b[0;34m\u001b[0m\u001b[0;34m\u001b[0m\u001b[0m\n\u001b[0m\u001b[1;32m    824\u001b[0m     \u001b[0;32mfinally\u001b[0m\u001b[0;34m:\u001b[0m\u001b[0;34m\u001b[0m\u001b[0;34m\u001b[0m\u001b[0m\n\u001b[1;32m    825\u001b[0m       \u001b[0;31m# At this point we know that the initialization is complete (or less\u001b[0m\u001b[0;34m\u001b[0m\u001b[0;34m\u001b[0m\u001b[0;34m\u001b[0m\u001b[0m\n",
      "\u001b[0;32m~/envs/tf2/lib/python3.8/site-packages/tensorflow/python/eager/def_function.py\u001b[0m in \u001b[0;36m_initialize\u001b[0;34m(self, args, kwds, add_initializers_to)\u001b[0m\n\u001b[1;32m    694\u001b[0m     \u001b[0mself\u001b[0m\u001b[0;34m.\u001b[0m\u001b[0m_graph_deleter\u001b[0m \u001b[0;34m=\u001b[0m \u001b[0mFunctionDeleter\u001b[0m\u001b[0;34m(\u001b[0m\u001b[0mself\u001b[0m\u001b[0;34m.\u001b[0m\u001b[0m_lifted_initializer_graph\u001b[0m\u001b[0;34m)\u001b[0m\u001b[0;34m\u001b[0m\u001b[0;34m\u001b[0m\u001b[0m\n\u001b[1;32m    695\u001b[0m     self._concrete_stateful_fn = (\n\u001b[0;32m--> 696\u001b[0;31m         self._stateful_fn._get_concrete_function_internal_garbage_collected(  # pylint: disable=protected-access\n\u001b[0m\u001b[1;32m    697\u001b[0m             *args, **kwds))\n\u001b[1;32m    698\u001b[0m \u001b[0;34m\u001b[0m\u001b[0m\n",
      "\u001b[0;32m~/envs/tf2/lib/python3.8/site-packages/tensorflow/python/eager/function.py\u001b[0m in \u001b[0;36m_get_concrete_function_internal_garbage_collected\u001b[0;34m(self, *args, **kwargs)\u001b[0m\n\u001b[1;32m   2853\u001b[0m       \u001b[0margs\u001b[0m\u001b[0;34m,\u001b[0m \u001b[0mkwargs\u001b[0m \u001b[0;34m=\u001b[0m \u001b[0;32mNone\u001b[0m\u001b[0;34m,\u001b[0m \u001b[0;32mNone\u001b[0m\u001b[0;34m\u001b[0m\u001b[0;34m\u001b[0m\u001b[0m\n\u001b[1;32m   2854\u001b[0m     \u001b[0;32mwith\u001b[0m \u001b[0mself\u001b[0m\u001b[0;34m.\u001b[0m\u001b[0m_lock\u001b[0m\u001b[0;34m:\u001b[0m\u001b[0;34m\u001b[0m\u001b[0;34m\u001b[0m\u001b[0m\n\u001b[0;32m-> 2855\u001b[0;31m       \u001b[0mgraph_function\u001b[0m\u001b[0;34m,\u001b[0m \u001b[0m_\u001b[0m\u001b[0;34m,\u001b[0m \u001b[0m_\u001b[0m \u001b[0;34m=\u001b[0m \u001b[0mself\u001b[0m\u001b[0;34m.\u001b[0m\u001b[0m_maybe_define_function\u001b[0m\u001b[0;34m(\u001b[0m\u001b[0margs\u001b[0m\u001b[0;34m,\u001b[0m \u001b[0mkwargs\u001b[0m\u001b[0;34m)\u001b[0m\u001b[0;34m\u001b[0m\u001b[0;34m\u001b[0m\u001b[0m\n\u001b[0m\u001b[1;32m   2856\u001b[0m     \u001b[0;32mreturn\u001b[0m \u001b[0mgraph_function\u001b[0m\u001b[0;34m\u001b[0m\u001b[0;34m\u001b[0m\u001b[0m\n\u001b[1;32m   2857\u001b[0m \u001b[0;34m\u001b[0m\u001b[0m\n",
      "\u001b[0;32m~/envs/tf2/lib/python3.8/site-packages/tensorflow/python/eager/function.py\u001b[0m in \u001b[0;36m_maybe_define_function\u001b[0;34m(self, args, kwargs)\u001b[0m\n\u001b[1;32m   3211\u001b[0m \u001b[0;34m\u001b[0m\u001b[0m\n\u001b[1;32m   3212\u001b[0m       \u001b[0mself\u001b[0m\u001b[0;34m.\u001b[0m\u001b[0m_function_cache\u001b[0m\u001b[0;34m.\u001b[0m\u001b[0mmissed\u001b[0m\u001b[0;34m.\u001b[0m\u001b[0madd\u001b[0m\u001b[0;34m(\u001b[0m\u001b[0mcall_context_key\u001b[0m\u001b[0;34m)\u001b[0m\u001b[0;34m\u001b[0m\u001b[0;34m\u001b[0m\u001b[0m\n\u001b[0;32m-> 3213\u001b[0;31m       \u001b[0mgraph_function\u001b[0m \u001b[0;34m=\u001b[0m \u001b[0mself\u001b[0m\u001b[0;34m.\u001b[0m\u001b[0m_create_graph_function\u001b[0m\u001b[0;34m(\u001b[0m\u001b[0margs\u001b[0m\u001b[0;34m,\u001b[0m \u001b[0mkwargs\u001b[0m\u001b[0;34m)\u001b[0m\u001b[0;34m\u001b[0m\u001b[0;34m\u001b[0m\u001b[0m\n\u001b[0m\u001b[1;32m   3214\u001b[0m       \u001b[0mself\u001b[0m\u001b[0;34m.\u001b[0m\u001b[0m_function_cache\u001b[0m\u001b[0;34m.\u001b[0m\u001b[0mprimary\u001b[0m\u001b[0;34m[\u001b[0m\u001b[0mcache_key\u001b[0m\u001b[0;34m]\u001b[0m \u001b[0;34m=\u001b[0m \u001b[0mgraph_function\u001b[0m\u001b[0;34m\u001b[0m\u001b[0;34m\u001b[0m\u001b[0m\n\u001b[1;32m   3215\u001b[0m       \u001b[0;32mreturn\u001b[0m \u001b[0mgraph_function\u001b[0m\u001b[0;34m,\u001b[0m \u001b[0margs\u001b[0m\u001b[0;34m,\u001b[0m \u001b[0mkwargs\u001b[0m\u001b[0;34m\u001b[0m\u001b[0;34m\u001b[0m\u001b[0m\n",
      "\u001b[0;32m~/envs/tf2/lib/python3.8/site-packages/tensorflow/python/eager/function.py\u001b[0m in \u001b[0;36m_create_graph_function\u001b[0;34m(self, args, kwargs, override_flat_arg_shapes)\u001b[0m\n\u001b[1;32m   3063\u001b[0m     \u001b[0marg_names\u001b[0m \u001b[0;34m=\u001b[0m \u001b[0mbase_arg_names\u001b[0m \u001b[0;34m+\u001b[0m \u001b[0mmissing_arg_names\u001b[0m\u001b[0;34m\u001b[0m\u001b[0;34m\u001b[0m\u001b[0m\n\u001b[1;32m   3064\u001b[0m     graph_function = ConcreteFunction(\n\u001b[0;32m-> 3065\u001b[0;31m         func_graph_module.func_graph_from_py_func(\n\u001b[0m\u001b[1;32m   3066\u001b[0m             \u001b[0mself\u001b[0m\u001b[0;34m.\u001b[0m\u001b[0m_name\u001b[0m\u001b[0;34m,\u001b[0m\u001b[0;34m\u001b[0m\u001b[0;34m\u001b[0m\u001b[0m\n\u001b[1;32m   3067\u001b[0m             \u001b[0mself\u001b[0m\u001b[0;34m.\u001b[0m\u001b[0m_python_function\u001b[0m\u001b[0;34m,\u001b[0m\u001b[0;34m\u001b[0m\u001b[0;34m\u001b[0m\u001b[0m\n",
      "\u001b[0;32m~/envs/tf2/lib/python3.8/site-packages/tensorflow/python/framework/func_graph.py\u001b[0m in \u001b[0;36mfunc_graph_from_py_func\u001b[0;34m(name, python_func, args, kwargs, signature, func_graph, autograph, autograph_options, add_control_dependencies, arg_names, op_return_value, collections, capture_by_value, override_flat_arg_shapes)\u001b[0m\n\u001b[1;32m    984\u001b[0m         \u001b[0m_\u001b[0m\u001b[0;34m,\u001b[0m \u001b[0moriginal_func\u001b[0m \u001b[0;34m=\u001b[0m \u001b[0mtf_decorator\u001b[0m\u001b[0;34m.\u001b[0m\u001b[0munwrap\u001b[0m\u001b[0;34m(\u001b[0m\u001b[0mpython_func\u001b[0m\u001b[0;34m)\u001b[0m\u001b[0;34m\u001b[0m\u001b[0;34m\u001b[0m\u001b[0m\n\u001b[1;32m    985\u001b[0m \u001b[0;34m\u001b[0m\u001b[0m\n\u001b[0;32m--> 986\u001b[0;31m       \u001b[0mfunc_outputs\u001b[0m \u001b[0;34m=\u001b[0m \u001b[0mpython_func\u001b[0m\u001b[0;34m(\u001b[0m\u001b[0;34m*\u001b[0m\u001b[0mfunc_args\u001b[0m\u001b[0;34m,\u001b[0m \u001b[0;34m**\u001b[0m\u001b[0mfunc_kwargs\u001b[0m\u001b[0;34m)\u001b[0m\u001b[0;34m\u001b[0m\u001b[0;34m\u001b[0m\u001b[0m\n\u001b[0m\u001b[1;32m    987\u001b[0m \u001b[0;34m\u001b[0m\u001b[0m\n\u001b[1;32m    988\u001b[0m       \u001b[0;31m# invariant: `func_outputs` contains only Tensors, CompositeTensors,\u001b[0m\u001b[0;34m\u001b[0m\u001b[0;34m\u001b[0m\u001b[0;34m\u001b[0m\u001b[0m\n",
      "\u001b[0;32m~/envs/tf2/lib/python3.8/site-packages/tensorflow/python/eager/def_function.py\u001b[0m in \u001b[0;36mwrapped_fn\u001b[0;34m(*args, **kwds)\u001b[0m\n\u001b[1;32m    598\u001b[0m         \u001b[0;31m# __wrapped__ allows AutoGraph to swap in a converted function. We give\u001b[0m\u001b[0;34m\u001b[0m\u001b[0;34m\u001b[0m\u001b[0;34m\u001b[0m\u001b[0m\n\u001b[1;32m    599\u001b[0m         \u001b[0;31m# the function a weak reference to itself to avoid a reference cycle.\u001b[0m\u001b[0;34m\u001b[0m\u001b[0;34m\u001b[0m\u001b[0;34m\u001b[0m\u001b[0m\n\u001b[0;32m--> 600\u001b[0;31m         \u001b[0;32mreturn\u001b[0m \u001b[0mweak_wrapped_fn\u001b[0m\u001b[0;34m(\u001b[0m\u001b[0;34m)\u001b[0m\u001b[0;34m.\u001b[0m\u001b[0m__wrapped__\u001b[0m\u001b[0;34m(\u001b[0m\u001b[0;34m*\u001b[0m\u001b[0margs\u001b[0m\u001b[0;34m,\u001b[0m \u001b[0;34m**\u001b[0m\u001b[0mkwds\u001b[0m\u001b[0;34m)\u001b[0m\u001b[0;34m\u001b[0m\u001b[0;34m\u001b[0m\u001b[0m\n\u001b[0m\u001b[1;32m    601\u001b[0m     \u001b[0mweak_wrapped_fn\u001b[0m \u001b[0;34m=\u001b[0m \u001b[0mweakref\u001b[0m\u001b[0;34m.\u001b[0m\u001b[0mref\u001b[0m\u001b[0;34m(\u001b[0m\u001b[0mwrapped_fn\u001b[0m\u001b[0;34m)\u001b[0m\u001b[0;34m\u001b[0m\u001b[0;34m\u001b[0m\u001b[0m\n\u001b[1;32m    602\u001b[0m \u001b[0;34m\u001b[0m\u001b[0m\n",
      "\u001b[0;32m~/envs/tf2/lib/python3.8/site-packages/tensorflow/python/framework/func_graph.py\u001b[0m in \u001b[0;36mwrapper\u001b[0;34m(*args, **kwargs)\u001b[0m\n\u001b[1;32m    971\u001b[0m           \u001b[0;32mexcept\u001b[0m \u001b[0mException\u001b[0m \u001b[0;32mas\u001b[0m \u001b[0me\u001b[0m\u001b[0;34m:\u001b[0m  \u001b[0;31m# pylint:disable=broad-except\u001b[0m\u001b[0;34m\u001b[0m\u001b[0;34m\u001b[0m\u001b[0m\n\u001b[1;32m    972\u001b[0m             \u001b[0;32mif\u001b[0m \u001b[0mhasattr\u001b[0m\u001b[0;34m(\u001b[0m\u001b[0me\u001b[0m\u001b[0;34m,\u001b[0m \u001b[0;34m\"ag_error_metadata\"\u001b[0m\u001b[0;34m)\u001b[0m\u001b[0;34m:\u001b[0m\u001b[0;34m\u001b[0m\u001b[0;34m\u001b[0m\u001b[0m\n\u001b[0;32m--> 973\u001b[0;31m               \u001b[0;32mraise\u001b[0m \u001b[0me\u001b[0m\u001b[0;34m.\u001b[0m\u001b[0mag_error_metadata\u001b[0m\u001b[0;34m.\u001b[0m\u001b[0mto_exception\u001b[0m\u001b[0;34m(\u001b[0m\u001b[0me\u001b[0m\u001b[0;34m)\u001b[0m\u001b[0;34m\u001b[0m\u001b[0;34m\u001b[0m\u001b[0m\n\u001b[0m\u001b[1;32m    974\u001b[0m             \u001b[0;32melse\u001b[0m\u001b[0;34m:\u001b[0m\u001b[0;34m\u001b[0m\u001b[0;34m\u001b[0m\u001b[0m\n\u001b[1;32m    975\u001b[0m               \u001b[0;32mraise\u001b[0m\u001b[0;34m\u001b[0m\u001b[0;34m\u001b[0m\u001b[0m\n",
      "\u001b[0;31mValueError\u001b[0m: in user code:\n\n    /home/methodfunc/envs/tf2/lib/python3.8/site-packages/tensorflow/python/keras/engine/training.py:1462 predict_function  *\n        return step_function(self, iterator)\n    /home/methodfunc/envs/tf2/lib/python3.8/site-packages/tensorflow/python/keras/engine/training.py:1452 step_function  **\n        outputs = model.distribute_strategy.run(run_step, args=(data,))\n    /home/methodfunc/envs/tf2/lib/python3.8/site-packages/tensorflow/python/distribute/distribute_lib.py:1211 run\n        return self._extended.call_for_each_replica(fn, args=args, kwargs=kwargs)\n    /home/methodfunc/envs/tf2/lib/python3.8/site-packages/tensorflow/python/distribute/distribute_lib.py:2585 call_for_each_replica\n        return self._call_for_each_replica(fn, args, kwargs)\n    /home/methodfunc/envs/tf2/lib/python3.8/site-packages/tensorflow/python/distribute/distribute_lib.py:2945 _call_for_each_replica\n        return fn(*args, **kwargs)\n    /home/methodfunc/envs/tf2/lib/python3.8/site-packages/tensorflow/python/keras/engine/training.py:1445 run_step  **\n        outputs = model.predict_step(data)\n    /home/methodfunc/envs/tf2/lib/python3.8/site-packages/tensorflow/python/keras/engine/training.py:1418 predict_step\n        return self(x, training=False)\n    /home/methodfunc/envs/tf2/lib/python3.8/site-packages/tensorflow/python/keras/engine/base_layer.py:975 __call__\n        input_spec.assert_input_compatibility(self.input_spec, inputs,\n    /home/methodfunc/envs/tf2/lib/python3.8/site-packages/tensorflow/python/keras/engine/input_spec.py:212 assert_input_compatibility\n        raise ValueError(\n\n    ValueError: Input 0 of layer sequential_1 is incompatible with the layer: expected axis -1 of input shape to have value 3 but received input with shape [None, 3, 32, 32]\n"
     ]
    }
   ],
   "source": [
    "predictions = model.predict_classes(imgs)\n",
    "# print(predictions)"
   ]
  },
  {
   "cell_type": "code",
   "execution_count": null,
   "metadata": {},
   "outputs": [],
   "source": []
  }
 ],
 "metadata": {
  "kernelspec": {
   "display_name": "Python 3",
   "language": "python",
   "name": "python3"
  },
  "language_info": {
   "codemirror_mode": {
    "name": "ipython",
    "version": 3
   },
   "file_extension": ".py",
   "mimetype": "text/x-python",
   "name": "python",
   "nbconvert_exporter": "python",
   "pygments_lexer": "ipython3",
   "version": "3.8.2"
  }
 },
 "nbformat": 4,
 "nbformat_minor": 4
}

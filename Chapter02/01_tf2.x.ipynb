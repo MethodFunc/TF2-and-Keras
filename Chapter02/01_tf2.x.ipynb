{
 "cells": [
  {
   "cell_type": "code",
   "execution_count": 1,
   "metadata": {},
   "outputs": [],
   "source": [
    "import tensorflow as tf\n",
    "import timeit"
   ]
  },
  {
   "cell_type": "code",
   "execution_count": 2,
   "metadata": {},
   "outputs": [],
   "source": [
    "cell = tf.keras.layers.LSTMCell(100)"
   ]
  },
  {
   "cell_type": "code",
   "execution_count": 3,
   "metadata": {},
   "outputs": [],
   "source": [
    "@tf.function\n",
    "def fn(input, state):\n",
    "    return cell(input, state)"
   ]
  },
  {
   "cell_type": "code",
   "execution_count": 4,
   "metadata": {},
   "outputs": [],
   "source": [
    "input = tf.zeros([100, 100])\n",
    "state = [tf.zeros([100, 100])] * 2"
   ]
  },
  {
   "cell_type": "code",
   "execution_count": 5,
   "metadata": {},
   "outputs": [
    {
     "data": {
      "text/plain": [
       "(<tf.Tensor: shape=(100, 100), dtype=float32, numpy=\n",
       " array([[0., 0., 0., ..., 0., 0., 0.],\n",
       "        [0., 0., 0., ..., 0., 0., 0.],\n",
       "        [0., 0., 0., ..., 0., 0., 0.],\n",
       "        ...,\n",
       "        [0., 0., 0., ..., 0., 0., 0.],\n",
       "        [0., 0., 0., ..., 0., 0., 0.],\n",
       "        [0., 0., 0., ..., 0., 0., 0.]], dtype=float32)>,\n",
       " [<tf.Tensor: shape=(100, 100), dtype=float32, numpy=\n",
       "  array([[0., 0., 0., ..., 0., 0., 0.],\n",
       "         [0., 0., 0., ..., 0., 0., 0.],\n",
       "         [0., 0., 0., ..., 0., 0., 0.],\n",
       "         ...,\n",
       "         [0., 0., 0., ..., 0., 0., 0.],\n",
       "         [0., 0., 0., ..., 0., 0., 0.],\n",
       "         [0., 0., 0., ..., 0., 0., 0.]], dtype=float32)>,\n",
       "  <tf.Tensor: shape=(100, 100), dtype=float32, numpy=\n",
       "  array([[0., 0., 0., ..., 0., 0., 0.],\n",
       "         [0., 0., 0., ..., 0., 0., 0.],\n",
       "         [0., 0., 0., ..., 0., 0., 0.],\n",
       "         ...,\n",
       "         [0., 0., 0., ..., 0., 0., 0.],\n",
       "         [0., 0., 0., ..., 0., 0., 0.],\n",
       "         [0., 0., 0., ..., 0., 0., 0.]], dtype=float32)>])"
      ]
     },
     "execution_count": 5,
     "metadata": {},
     "output_type": "execute_result"
    }
   ],
   "source": [
    "# 워밍업\n",
    "cell(input, state)\n",
    "fn(input, state)"
   ]
  },
  {
   "cell_type": "code",
   "execution_count": 6,
   "metadata": {},
   "outputs": [
    {
     "name": "stdout",
     "output_type": "stream",
     "text": [
      "grpah_time: 0.32798164599807933\n",
      "auto_graph_time: 0.1735839050015784\n"
     ]
    }
   ],
   "source": [
    "graph_time = timeit.timeit(lambda: cell(input, state), number = 1000)\n",
    "auto_graph_time = timeit.timeit(lambda: fn(input, state), number =1000)\n",
    "print('grpah_time:', graph_time)\n",
    "print('auto_graph_time:', auto_graph_time)"
   ]
  },
  {
   "cell_type": "code",
   "execution_count": 7,
   "metadata": {},
   "outputs": [],
   "source": [
    "import pydot"
   ]
  },
  {
   "cell_type": "code",
   "execution_count": 8,
   "metadata": {},
   "outputs": [],
   "source": [
    "#함수적 API\n",
    "def build_model():\n",
    "    text_input_a = tf.keras.Input(shape=(None,), dtype='int32')\n",
    "    text_input_b = tf.keras.Input(shape=(None,), dtype='int32')\n",
    "    \n",
    "    shared_embedding = tf.keras.layers.Embedding(1000, 128)\n",
    "    \n",
    "    encoded_input_a = shared_embedding(text_input_a)\n",
    "    encoded_input_b = shared_embedding(text_input_b)\n",
    "    \n",
    "    prediction_a = tf.keras.layers.Dense(1, activation='sigmoid', name='prediction_a')(encoded_input_a)\n",
    "    prediction_b = tf.keras.layers.Dense(1, activation='sigmoid', name='prediction_b')(encoded_input_b)\n",
    "    \n",
    "    model = tf.keras.Model(inputs = [text_input_a, text_input_b], outputs = [prediction_a, prediction_b])\n",
    "    \n",
    "    tf.keras.utils.plot_model(model, to_file=\"shared_model.png\")    "
   ]
  },
  {
   "cell_type": "code",
   "execution_count": 9,
   "metadata": {},
   "outputs": [],
   "source": [
    "build_model()"
   ]
  },
  {
   "cell_type": "code",
   "execution_count": 14,
   "metadata": {},
   "outputs": [],
   "source": [
    "# Model SubClassing\n",
    "\n",
    "class MyLayer(tf.keras.layers.Layer):\n",
    "    def __init__(self, output_dim, **kwargs):\n",
    "        self.output_dim = output_dim\n",
    "        super(MyLayer, self).__init__(**kwargs)\n",
    "        \n",
    "    def build(self, input_shape):\n",
    "        # 이 계층의 훈련 간으한 가중치 변수 설정\n",
    "        self.kernel = self.add_weight(name='kernel', shape=(input_shape[1], self.output_dim), initializer = 'uniform', trainable=True)\n",
    "        \n",
    "    def call(self, inputs):\n",
    "        return tf.matmul(inputs, self.kernel)"
   ]
  },
  {
   "cell_type": "code",
   "execution_count": 15,
   "metadata": {},
   "outputs": [],
   "source": [
    "model = tf.keras.Sequential([\n",
    "    MyLayer(20),\n",
    "    tf.keras.layers.Activation('softmax')\n",
    "])"
   ]
  },
  {
   "cell_type": "code",
   "execution_count": 16,
   "metadata": {},
   "outputs": [
    {
     "data": {
      "image/png": "[encoded data removed]",
      "text/plain": [
       "<IPython.core.display.Image object>"
      ]
     },
     "execution_count": 16,
     "metadata": {},
     "output_type": "execute_result"
    }
   ],
   "source": [
    "tf.keras.utils.plot_model(model, to_file=\"sub_classing_model.png\")"
   ]
  },
  {
   "cell_type": "code",
   "execution_count": 17,
   "metadata": {},
   "outputs": [],
   "source": [
    "#Callback\n",
    "callboacks = [tf.keras.callbacks.TensorBoard(log_dir='../logs')]"
   ]
  },
  {
   "cell_type": "code",
   "execution_count": null,
   "metadata": {},
   "outputs": [],
   "source": [
    "model.fit(data, labels, batch_size=256, epochs=100, callbacks=callbacks, validation_data=(val_data, val_labels))"
   ]
  },
  {
   "cell_type": "code",
   "execution_count": 18,
   "metadata": {},
   "outputs": [],
   "source": [
    "import tensorflow_datasets as tfds"
   ]
  },
  {
   "cell_type": "code",
   "execution_count": 19,
   "metadata": {},
   "outputs": [
    {
     "name": "stdout",
     "output_type": "stream",
     "text": [
      "['abstract_reasoning', 'aeslc', 'aflw2k3d', 'ai2_arc', 'amazon_us_reviews', 'anli', 'arc', 'bair_robot_pushing_small', 'beans', 'big_patent', 'bigearthnet', 'billsum', 'binarized_mnist', 'binary_alpha_digits', 'blimp', 'c4', 'caltech101', 'caltech_birds2010', 'caltech_birds2011', 'cars196', 'cassava', 'cats_vs_dogs', 'celeb_a', 'celeb_a_hq', 'cfq', 'chexpert', 'cifar10', 'cifar100', 'cifar10_1', 'cifar10_corrupted', 'citrus_leaves', 'cityscapes', 'civil_comments', 'clevr', 'clinc_oos', 'cmaterdb', 'cnn_dailymail', 'coco', 'coil100', 'colorectal_histology', 'colorectal_histology_large', 'common_voice', 'cos_e', 'cosmos_qa', 'covid19sum', 'crema_d', 'curated_breast_imaging_ddsm', 'cycle_gan', 'deep_weeds', 'definite_pronoun_resolution', 'dementiabank', 'diabetic_retinopathy_detection', 'div2k', 'dmlab', 'downsampled_imagenet', 'dsprites', 'dtd', 'duke_ultrasound', 'emnist', 'eraser_multi_rc', 'esnli', 'eurosat', 'fashion_mnist', 'flic', 'flores', 'food101', 'forest_fires', 'fuss', 'gap', 'geirhos_conflict_stimuli', 'german_credit_numeric', 'gigaword', 'glue', 'groove', 'higgs', 'horses_or_humans', 'i_naturalist2017', 'imagenet2012', 'imagenet2012_corrupted', 'imagenet2012_real', 'imagenet2012_subset', 'imagenet_a', 'imagenet_resized', 'imagenet_v2', 'imagenette', 'imagewang', 'imdb_reviews', 'irc_disentanglement', 'iris', 'kitti', 'kmnist', 'lfw', 'librispeech', 'librispeech_lm', 'libritts', 'ljspeech', 'lm1b', 'lost_and_found', 'lsun', 'malaria', 'math_dataset', 'mctaco', 'mnist', 'mnist_corrupted', 'movie_lens', 'movie_rationales', 'moving_mnist', 'multi_news', 'multi_nli', 'multi_nli_mismatch', 'natural_questions', 'newsroom', 'nsynth', 'nyu_depth_v2', 'omniglot', 'open_images_challenge2019_detection', 'open_images_v4', 'openbookqa', 'opinion_abstracts', 'opinosis', 'opus', 'oxford_flowers102', 'oxford_iiit_pet', 'para_crawl', 'patch_camelyon', 'pet_finder', 'pg19', 'places365_small', 'plant_leaves', 'plant_village', 'plantae_k', 'qa4mre', 'quickdraw_bitmap', 'reddit', 'reddit_disentanglement', 'reddit_tifu', 'resisc45', 'robonet', 'rock_paper_scissors', 'rock_you', 'samsum', 'savee', 'scan', 'scene_parse150', 'scicite', 'scientific_papers', 'shapes3d', 'smallnorb', 'snli', 'so2sat', 'speech_commands', 'squad', 'stanford_dogs', 'stanford_online_products', 'starcraft_video', 'stl10', 'sun397', 'super_glue', 'svhn_cropped', 'ted_hrlr_translate', 'ted_multi_translate', 'tedlium', 'tf_flowers', 'the300w_lp', 'tiny_shakespeare', 'titanic', 'trivia_qa', 'uc_merced', 'ucf101', 'vctk', 'vgg_face2', 'visual_domain_decathlon', 'voc', 'voxceleb', 'voxforge', 'waymo_open_dataset', 'web_questions', 'wider_face', 'wiki40b', 'wikihow', 'wikipedia', 'wikipedia_toxicity_subtypes', 'winogrande', 'wmt14_translate', 'wmt15_translate', 'wmt16_translate', 'wmt17_translate', 'wmt18_translate', 'wmt19_translate', 'wmt_t2t_translate', 'wmt_translate', 'wordnet', 'xnli', 'xsum', 'yelp_polarity_reviews']\n"
     ]
    }
   ],
   "source": [
    "builders = tfds.list_builders()\n",
    "print(builders)"
   ]
  },
  {
   "cell_type": "code",
   "execution_count": 21,
   "metadata": {
    "collapsed": true,
    "jupyter": {
     "outputs_hidden": true
    }
   },
   "outputs": [
    {
     "name": "stdout",
     "output_type": "stream",
     "text": [
      "\u001b[1mDownloading and preparing dataset mnist/3.0.1 (download: 11.06 MiB, generated: 21.00 MiB, total: 32.06 MiB) to /home/methodfunc/tensorflow_datasets/mnist/3.0.1...\u001b[0m\n"
     ]
    },
    {
     "name": "stderr",
     "output_type": "stream",
     "text": [
      "WARNING:absl:Dataset mnist is hosted on GCS. It will automatically be downloaded to your\n",
      "local data directory. If you'd instead prefer to read directly from our public\n",
      "GCS bucket (recommended if you're running on GCP), you can instead pass\n",
      "`try_gcs=True` to `tfds.load` or set `data_dir=gs://tfds-data/datasets`.\n",
      "\n",
      "Dl Completed...: 100%|██████████| 4/4 [00:00<00:00,  4.49 file/s]"
     ]
    },
    {
     "name": "stdout",
     "output_type": "stream",
     "text": [
      "\n",
      "\u001b[1mDataset mnist downloaded and prepared to /home/methodfunc/tensorflow_datasets/mnist/3.0.1. Subsequent calls will reuse this data.\u001b[0m\n",
      "tfds.core.DatasetInfo(\n",
      "    name='mnist',\n",
      "    version=3.0.1,\n",
      "    description='The MNIST database of handwritten digits.',\n",
      "    homepage='http://yann.lecun.com/exdb/mnist/',\n",
      "    features=FeaturesDict({\n",
      "        'image': Image(shape=(28, 28, 1), dtype=tf.uint8),\n",
      "        'label': ClassLabel(shape=(), dtype=tf.int64, num_classes=10),\n",
      "    }),\n",
      "    total_num_examples=70000,\n",
      "    splits={\n",
      "        'test': 10000,\n",
      "        'train': 60000,\n",
      "    },\n",
      "    supervised_keys=('image', 'label'),\n",
      "    citation=\"\"\"@article{lecun2010mnist,\n",
      "      title={MNIST handwritten digit database},\n",
      "      author={LeCun, Yann and Cortes, Corinna and Burges, CJ},\n",
      "      journal={ATT Labs [Online]. Available: http://yann.lecun.com/exdb/mnist},\n",
      "      volume={2},\n",
      "      year={2010}\n",
      "    }\"\"\",\n",
      "    redistribution_info=,\n",
      ")\n",
      "\n"
     ]
    },
    {
     "name": "stderr",
     "output_type": "stream",
     "text": [
      "\n"
     ]
    }
   ],
   "source": [
    "data, info = tfds.load(\"mnist\", with_info = True)\n",
    "train_data, test_data =data['train'], data['test']\n",
    "\n",
    "print(info)"
   ]
  },
  {
   "cell_type": "code",
   "execution_count": 28,
   "metadata": {},
   "outputs": [],
   "source": [
    "data = tfds.load('cats_vs_dogs', with_info = True)"
   ]
  },
  {
   "cell_type": "code",
   "execution_count": 32,
   "metadata": {},
   "outputs": [
    {
     "ename": "TypeError",
     "evalue": "tuple indices must be integers or slices, not str",
     "output_type": "error",
     "traceback": [
      "\u001b[0;31m---------------------------------------------------------------------------\u001b[0m",
      "\u001b[0;31mTypeError\u001b[0m                                 Traceback (most recent call last)",
      "\u001b[0;32m<ipython-input-32-1c03361df79b>\u001b[0m in \u001b[0;36m<module>\u001b[0;34m\u001b[0m\n\u001b[0;32m----> 1\u001b[0;31m \u001b[0mdata\u001b[0m\u001b[0;34m[\u001b[0m\u001b[0;34m'train'\u001b[0m\u001b[0;34m]\u001b[0m\u001b[0;34m\u001b[0m\u001b[0;34m\u001b[0m\u001b[0m\n\u001b[0m",
      "\u001b[0;31mTypeError\u001b[0m: tuple indices must be integers or slices, not str"
     ]
    }
   ],
   "source": [
    "data['train']"
   ]
  },
  {
   "cell_type": "code",
   "execution_count": 30,
   "metadata": {},
   "outputs": [
    {
     "data": {
      "text/plain": [
       "({'train': <PrefetchDataset shapes: {image: (None, None, 3), image/filename: (), label: ()}, types: {image: tf.uint8, image/filename: tf.string, label: tf.int64}>},\n",
       " tfds.core.DatasetInfo(\n",
       "     name='cats_vs_dogs',\n",
       "     version=4.0.0,\n",
       "     description='A large set of images of cats and dogs.There are 1738 corrupted images that are dropped.',\n",
       "     homepage='https://www.microsoft.com/en-us/download/details.aspx?id=54765',\n",
       "     features=FeaturesDict({\n",
       "         'image': Image(shape=(None, None, 3), dtype=tf.uint8),\n",
       "         'image/filename': Text(shape=(), dtype=tf.string),\n",
       "         'label': ClassLabel(shape=(), dtype=tf.int64, num_classes=2),\n",
       "     }),\n",
       "     total_num_examples=23262,\n",
       "     splits={\n",
       "         'train': 23262,\n",
       "     },\n",
       "     supervised_keys=('image', 'label'),\n",
       "     citation=\"\"\"@Inproceedings (Conference){asirra-a-captcha-that-exploits-interest-aligned-manual-image-categorization,\n",
       "     author = {Elson, Jeremy and Douceur, John (JD) and Howell, Jon and Saul, Jared},\n",
       "     title = {Asirra: A CAPTCHA that Exploits Interest-Aligned Manual Image Categorization},\n",
       "     booktitle = {Proceedings of 14th ACM Conference on Computer and Communications Security (CCS)},\n",
       "     year = {2007},\n",
       "     month = {October},\n",
       "     publisher = {Association for Computing Machinery, Inc.},\n",
       "     url = {https://www.microsoft.com/en-us/research/publication/asirra-a-captcha-that-exploits-interest-aligned-manual-image-categorization/},\n",
       "     edition = {Proceedings of 14th ACM Conference on Computer and Communications Security (CCS)},\n",
       "     }\"\"\",\n",
       "     redistribution_info=,\n",
       " ))"
      ]
     },
     "execution_count": 30,
     "metadata": {},
     "output_type": "execute_result"
    }
   ],
   "source": [
    "data"
   ]
  },
  {
   "cell_type": "code",
   "execution_count": 33,
   "metadata": {},
   "outputs": [],
   "source": [
    "import numpy as np"
   ]
  },
  {
   "cell_type": "code",
   "execution_count": 34,
   "metadata": {},
   "outputs": [],
   "source": [
    "num_items = 100\n",
    "num_list = np.arange(num_items)"
   ]
  },
  {
   "cell_type": "code",
   "execution_count": 35,
   "metadata": {},
   "outputs": [],
   "source": [
    "num_lst_dataset = tf.data.Dataset.from_tensor_slices(num_list)"
   ]
  },
  {
   "cell_type": "code",
   "execution_count": 36,
   "metadata": {},
   "outputs": [
    {
     "name": "stdout",
     "output_type": "stream",
     "text": [
      "\u001b[1mDownloading and preparing dataset imdb_reviews/plain_text/1.0.0 (download: 80.23 MiB, generated: Unknown size, total: 80.23 MiB) to /home/methodfunc/tensorflow_datasets/imdb_reviews/plain_text/1.0.0...\u001b[0m\n"
     ]
    },
    {
     "name": "stderr",
     "output_type": "stream",
     "text": [
      "Dl Completed...: 0 url [00:00, ? url/s]\n",
      "Dl Completed...:   0%|          | 0/1 [00:00<?, ? url/s]\n",
      "Dl Completed...:   0%|          | 0/1 [00:00<?, ? url/s]\n",
      "Dl Size...:   0%|          | 0/80 [00:00<?, ? MiB/s]\u001b[A\n",
      "Dl Completed...:   0%|          | 0/1 [00:01<?, ? url/s]MiB]\u001b[A\n",
      "Dl Size...:   1%|▏         | 1/80 [00:01<02:01,  1.54s/ MiB]\u001b[A\n",
      "Dl Completed...:   0%|          | 0/1 [00:01<?, ? url/s]MiB]\u001b[A\n",
      "Dl Size...:   2%|▎         | 2/80 [00:01<01:27,  1.12s/ MiB]\u001b[A\n",
      "Dl Completed...:   0%|          | 0/1 [00:01<?, ? url/s]B/s]\u001b[A\n",
      "Dl Size...:   4%|▍         | 3/80 [00:01<01:03,  1.20 MiB/s]\u001b[A\n",
      "Dl Completed...:   0%|          | 0/1 [00:02<?, ? url/s]B/s]\u001b[A\n",
      "Dl Size...:   5%|▌         | 4/80 [00:02<00:47,  1.59 MiB/s]\u001b[A\n",
      "Dl Completed...:   0%|          | 0/1 [00:02<?, ? url/s]B/s]\u001b[A\n",
      "Dl Completed...:   0%|          | 0/1 [00:02<?, ? url/s]B/s]\u001b[A\n",
      "Dl Size...:   8%|▊         | 6/80 [00:02<00:36,  2.04 MiB/s]\u001b[A\n",
      "Dl Completed...:   0%|          | 0/1 [00:02<?, ? url/s]B/s]\u001b[A\n",
      "Dl Size...:   9%|▉         | 7/80 [00:02<00:26,  2.76 MiB/s]\u001b[A\n",
      "Dl Completed...:   0%|          | 0/1 [00:02<?, ? url/s]B/s]\u001b[A\n",
      "Dl Size...:  10%|█         | 8/80 [00:02<00:21,  3.39 MiB/s]\u001b[A\n",
      "Dl Completed...:   0%|          | 0/1 [00:02<?, ? url/s]B/s]\u001b[A\n",
      "Dl Completed...:   0%|          | 0/1 [00:02<?, ? url/s]B/s]\u001b[A\n",
      "Dl Size...:  12%|█▎        | 10/80 [00:02<00:17,  4.01 MiB/s]\u001b[A\n",
      "Dl Completed...:   0%|          | 0/1 [00:02<?, ? url/s]iB/s]\u001b[A\n",
      "Dl Size...:  14%|█▍        | 11/80 [00:02<00:14,  4.93 MiB/s]\u001b[A\n",
      "Dl Completed...:   0%|          | 0/1 [00:02<?, ? url/s]iB/s]\u001b[A\n",
      "Dl Size...:  15%|█▌        | 12/80 [00:02<00:12,  5.46 MiB/s]\u001b[A\n",
      "Dl Completed...:   0%|          | 0/1 [00:03<?, ? url/s]iB/s]\u001b[A\n",
      "Dl Size...:  16%|█▋        | 13/80 [00:03<00:11,  5.86 MiB/s]\u001b[A\n",
      "Dl Completed...:   0%|          | 0/1 [00:03<?, ? url/s]iB/s]\u001b[A\n",
      "Dl Completed...:   0%|          | 0/1 [00:03<?, ? url/s]iB/s]\u001b[A\n",
      "Dl Size...:  19%|█▉        | 15/80 [00:03<00:10,  6.37 MiB/s]\u001b[A\n",
      "Dl Completed...:   0%|          | 0/1 [00:03<?, ? url/s]iB/s]\u001b[A\n",
      "Dl Size...:  20%|██        | 16/80 [00:03<00:08,  7.22 MiB/s]\u001b[A\n",
      "Dl Completed...:   0%|          | 0/1 [00:03<?, ? url/s]iB/s]\u001b[A\n",
      "Dl Size...:  21%|██▏       | 17/80 [00:03<00:08,  7.39 MiB/s]\u001b[A\n",
      "Dl Completed...:   0%|          | 0/1 [00:03<?, ? url/s]iB/s]\u001b[A\n",
      "Dl Completed...:   0%|          | 0/1 [00:03<?, ? url/s]iB/s]\u001b[A\n",
      "Dl Size...:  24%|██▍       | 19/80 [00:03<00:08,  7.27 MiB/s]\u001b[A\n",
      "Dl Completed...:   0%|          | 0/1 [00:03<?, ? url/s]iB/s]\u001b[A\n",
      "Dl Size...:  25%|██▌       | 20/80 [00:03<00:07,  8.13 MiB/s]\u001b[A\n",
      "Dl Completed...:   0%|          | 0/1 [00:03<?, ? url/s]iB/s]\u001b[A\n",
      "Dl Size...:  26%|██▋       | 21/80 [00:03<00:07,  7.87 MiB/s]\u001b[A\n",
      "Dl Completed...:   0%|          | 0/1 [00:04<?, ? url/s]iB/s]\u001b[A\n",
      "Dl Completed...:   0%|          | 0/1 [00:04<?, ? url/s]iB/s]\u001b[A\n",
      "Dl Size...:  29%|██▉       | 23/80 [00:04<00:06,  8.22 MiB/s]\u001b[A\n",
      "Dl Completed...:   0%|          | 0/1 [00:04<?, ? url/s]iB/s]\u001b[A\n",
      "Dl Size...:  30%|███       | 24/80 [00:04<00:06,  8.61 MiB/s]\u001b[A\n",
      "Dl Completed...:   0%|          | 0/1 [00:04<?, ? url/s]iB/s]\u001b[A\n",
      "Dl Completed...:   0%|          | 0/1 [00:04<?, ? url/s]iB/s]\u001b[A\n",
      "Dl Size...:  32%|███▎      | 26/80 [00:04<00:06,  8.47 MiB/s]\u001b[A\n",
      "Dl Completed...:   0%|          | 0/1 [00:04<?, ? url/s]iB/s]\u001b[A\n",
      "Dl Size...:  34%|███▍      | 27/80 [00:04<00:05,  9.20 MiB/s]\u001b[A\n",
      "Dl Completed...:   0%|          | 0/1 [00:04<?, ? url/s]iB/s]\u001b[A\n",
      "Dl Completed...:   0%|          | 0/1 [00:04<?, ? url/s]iB/s]\u001b[A\n",
      "Dl Size...:  36%|███▋      | 29/80 [00:04<00:05,  8.76 MiB/s]\u001b[A\n",
      "Dl Completed...:   0%|          | 0/1 [00:04<?, ? url/s]iB/s]\u001b[A\n",
      "Dl Size...:  38%|███▊      | 30/80 [00:04<00:05,  9.25 MiB/s]\u001b[A\n",
      "Dl Completed...:   0%|          | 0/1 [00:04<?, ? url/s]iB/s]\u001b[A\n",
      "Dl Completed...:   0%|          | 0/1 [00:05<?, ? url/s]iB/s]\u001b[A\n",
      "Dl Size...:  40%|████      | 32/80 [00:05<00:05,  9.08 MiB/s]\u001b[A\n",
      "Dl Completed...:   0%|          | 0/1 [00:05<?, ? url/s]iB/s]\u001b[A\n",
      "Dl Size...:  41%|████▏     | 33/80 [00:05<00:05,  9.40 MiB/s]\u001b[A\n",
      "Dl Completed...:   0%|          | 0/1 [00:05<?, ? url/s]iB/s]\u001b[A\n",
      "Dl Completed...:   0%|          | 0/1 [00:05<?, ? url/s]iB/s]\u001b[A\n",
      "Dl Size...:  44%|████▍     | 35/80 [00:05<00:04,  9.42 MiB/s]\u001b[A\n",
      "Dl Completed...:   0%|          | 0/1 [00:05<?, ? url/s]iB/s]\u001b[A\n",
      "Dl Completed...:   0%|          | 0/1 [00:05<?, ? url/s]iB/s]\u001b[A\n",
      "Dl Size...:  46%|████▋     | 37/80 [00:05<00:04,  9.93 MiB/s]\u001b[A\n",
      "Dl Completed...:   0%|          | 0/1 [00:05<?, ? url/s]iB/s]\u001b[A\n",
      "Dl Completed...:   0%|          | 0/1 [00:05<?, ? url/s]iB/s]\u001b[A\n",
      "Dl Size...:  49%|████▉     | 39/80 [00:05<00:04, 10.21 MiB/s]\u001b[A\n",
      "Dl Completed...:   0%|          | 0/1 [00:05<?, ? url/s]iB/s]\u001b[A\n",
      "Dl Completed...:   0%|          | 0/1 [00:05<?, ? url/s]iB/s]\u001b[A\n",
      "Dl Size...:  51%|█████▏    | 41/80 [00:05<00:03,  9.84 MiB/s]\u001b[A\n",
      "Dl Completed...:   0%|          | 0/1 [00:06<?, ? url/s]iB/s]\u001b[A\n",
      "Dl Completed...:   0%|          | 0/1 [00:06<?, ? url/s]iB/s]\u001b[A\n",
      "Dl Size...:  54%|█████▍    | 43/80 [00:06<00:03, 10.34 MiB/s]\u001b[A\n",
      "Dl Completed...:   0%|          | 0/1 [00:06<?, ? url/s]iB/s]\u001b[A\n",
      "Dl Completed...:   0%|          | 0/1 [00:06<?, ? url/s]iB/s]\u001b[A\n",
      "Dl Size...:  56%|█████▋    | 45/80 [00:06<00:03, 10.27 MiB/s]\u001b[A\n",
      "Dl Completed...:   0%|          | 0/1 [00:06<?, ? url/s]iB/s]\u001b[A\n",
      "Dl Completed...:   0%|          | 0/1 [00:06<?, ? url/s]iB/s]\u001b[A\n",
      "Dl Size...:  59%|█████▉    | 47/80 [00:06<00:03, 10.16 MiB/s]\u001b[A\n",
      "Dl Completed...:   0%|          | 0/1 [00:06<?, ? url/s]iB/s]\u001b[A\n",
      "Dl Completed...:   0%|          | 0/1 [00:06<?, ? url/s]iB/s]\u001b[A\n",
      "Dl Size...:  61%|██████▏   | 49/80 [00:06<00:03, 10.32 MiB/s]\u001b[A\n",
      "Dl Completed...:   0%|          | 0/1 [00:06<?, ? url/s]iB/s]\u001b[A\n",
      "Dl Completed...:   0%|          | 0/1 [00:06<?, ? url/s]iB/s]\u001b[A\n",
      "Dl Size...:  64%|██████▍   | 51/80 [00:06<00:02, 10.64 MiB/s]\u001b[A\n",
      "Dl Completed...:   0%|          | 0/1 [00:06<?, ? url/s]iB/s]\u001b[A\n",
      "Dl Completed...:   0%|          | 0/1 [00:07<?, ? url/s]iB/s]\u001b[A\n",
      "Dl Size...:  66%|██████▋   | 53/80 [00:07<00:02, 10.65 MiB/s]\u001b[A\n",
      "Dl Completed...:   0%|          | 0/1 [00:07<?, ? url/s]iB/s]\u001b[A\n",
      "Dl Completed...:   0%|          | 0/1 [00:07<?, ? url/s]iB/s]\u001b[A\n",
      "Dl Size...:  69%|██████▉   | 55/80 [00:07<00:02, 10.55 MiB/s]\u001b[A\n",
      "Dl Completed...:   0%|          | 0/1 [00:07<?, ? url/s]iB/s]\u001b[A\n",
      "Dl Completed...:   0%|          | 0/1 [00:07<?, ? url/s]iB/s]\u001b[A\n",
      "Dl Size...:  71%|███████▏  | 57/80 [00:07<00:02, 10.55 MiB/s]\u001b[A\n",
      "Dl Completed...:   0%|          | 0/1 [00:07<?, ? url/s]iB/s]\u001b[A\n",
      "Dl Completed...:   0%|          | 0/1 [00:07<?, ? url/s]iB/s]\u001b[A\n",
      "Dl Size...:  74%|███████▍  | 59/80 [00:07<00:01, 10.95 MiB/s]\u001b[A\n",
      "Dl Completed...:   0%|          | 0/1 [00:07<?, ? url/s]iB/s]\u001b[A\n",
      "Dl Completed...:   0%|          | 0/1 [00:07<?, ? url/s]iB/s]\u001b[A\n",
      "Dl Size...:  76%|███████▋  | 61/80 [00:07<00:01, 10.84 MiB/s]\u001b[A\n",
      "Dl Completed...:   0%|          | 0/1 [00:07<?, ? url/s]iB/s]\u001b[A\n",
      "Dl Completed...:   0%|          | 0/1 [00:08<?, ? url/s]iB/s]\u001b[A\n",
      "Dl Size...:  79%|███████▉  | 63/80 [00:08<00:01, 10.76 MiB/s]\u001b[A\n",
      "Dl Completed...:   0%|          | 0/1 [00:08<?, ? url/s]iB/s]\u001b[A\n",
      "Dl Completed...:   0%|          | 0/1 [00:08<?, ? url/s]iB/s]\u001b[A\n",
      "Dl Size...:  81%|████████▏ | 65/80 [00:08<00:01, 10.63 MiB/s]\u001b[A\n",
      "Dl Completed...:   0%|          | 0/1 [00:08<?, ? url/s]iB/s]\u001b[A\n",
      "Dl Completed...:   0%|          | 0/1 [00:08<?, ? url/s]iB/s]\u001b[A\n",
      "Dl Size...:  84%|████████▍ | 67/80 [00:08<00:01, 11.16 MiB/s]\u001b[A\n",
      "Dl Completed...:   0%|          | 0/1 [00:08<?, ? url/s]iB/s]\u001b[A\n",
      "Dl Completed...:   0%|          | 0/1 [00:08<?, ? url/s]iB/s]\u001b[A\n",
      "Dl Size...:  86%|████████▋ | 69/80 [00:08<00:01, 10.92 MiB/s]\u001b[A\n",
      "Dl Completed...:   0%|          | 0/1 [00:08<?, ? url/s]iB/s]\u001b[A\n",
      "Dl Completed...:   0%|          | 0/1 [00:08<?, ? url/s]iB/s]\u001b[A\n",
      "Dl Size...:  89%|████████▉ | 71/80 [00:08<00:00, 11.31 MiB/s]\u001b[A\n",
      "Dl Completed...:   0%|          | 0/1 [00:08<?, ? url/s]iB/s]\u001b[A\n",
      "Dl Completed...:   0%|          | 0/1 [00:08<?, ? url/s]iB/s]\u001b[A\n",
      "Dl Size...:  91%|█████████▏| 73/80 [00:08<00:00, 10.86 MiB/s]\u001b[A\n",
      "Dl Completed...:   0%|          | 0/1 [00:09<?, ? url/s]iB/s]\u001b[A\n",
      "Dl Completed...:   0%|          | 0/1 [00:09<?, ? url/s]iB/s]\u001b[A\n",
      "Dl Size...:  94%|█████████▍| 75/80 [00:09<00:00, 10.94 MiB/s]\u001b[A\n",
      "Dl Completed...:   0%|          | 0/1 [00:09<?, ? url/s]iB/s]\u001b[A\n",
      "Dl Completed...:   0%|          | 0/1 [00:09<?, ? url/s]iB/s]\u001b[A\n",
      "Dl Size...:  96%|█████████▋| 77/80 [00:09<00:00, 11.24 MiB/s]\u001b[A\n",
      "Dl Completed...:   0%|          | 0/1 [00:09<?, ? url/s]iB/s]\u001b[A\n",
      "Dl Completed...:   0%|          | 0/1 [00:09<?, ? url/s]iB/s]\u001b[A\n",
      "Dl Size...:  99%|█████████▉| 79/80 [00:09<00:00,  9.25 MiB/s]\u001b[A\n",
      "Dl Completed...:   0%|          | 0/1 [00:09<?, ? url/s]iB/s]\u001b[A\n",
      "Dl Completed...: 100%|██████████| 1/1 [00:09<00:00,  9.61s/ url]\n",
      "Dl Size...: 100%|██████████| 80/80 [00:09<00:00,  8.33 MiB/s]\u001b[A\n",
      "Dl Completed...: 100%|██████████| 1/1 [00:09<00:00,  9.61s/ url]\n",
      "0 examples [00:00, ? examples/s]"
     ]
    },
    {
     "name": "stdout",
     "output_type": "stream",
     "text": [
      "\n",
      "\n"
     ]
    },
    {
     "name": "stderr",
     "output_type": "stream",
     "text": [
      "0 examples [00:00, ? examples/s]                "
     ]
    },
    {
     "name": "stdout",
     "output_type": "stream",
     "text": [
      "Shuffling and writing examples to /home/methodfunc/tensorflow_datasets/imdb_reviews/plain_text/1.0.0.incompleteZ4ZZVM/imdb_reviews-train.tfrecord\n"
     ]
    },
    {
     "name": "stderr",
     "output_type": "stream",
     "text": [
      "0 examples [00:00, ? examples/s]                "
     ]
    },
    {
     "name": "stdout",
     "output_type": "stream",
     "text": [
      "Shuffling and writing examples to /home/methodfunc/tensorflow_datasets/imdb_reviews/plain_text/1.0.0.incompleteZ4ZZVM/imdb_reviews-test.tfrecord\n"
     ]
    },
    {
     "name": "stderr",
     "output_type": "stream",
     "text": [
      "                                                                "
     ]
    },
    {
     "name": "stdout",
     "output_type": "stream",
     "text": [
      "Shuffling and writing examples to /home/methodfunc/tensorflow_datasets/imdb_reviews/plain_text/1.0.0.incompleteZ4ZZVM/imdb_reviews-unsupervised.tfrecord\n",
      "\u001b[1mDataset imdb_reviews downloaded and prepared to /home/methodfunc/tensorflow_datasets/imdb_reviews/plain_text/1.0.0. Subsequent calls will reuse this data.\u001b[0m\n"
     ]
    },
    {
     "name": "stderr",
     "output_type": "stream",
     "text": [
      "\r"
     ]
    }
   ],
   "source": [
    "datasets, info = tfds.load('imdb_reviews', with_info=True, as_supervised=True)"
   ]
  },
  {
   "cell_type": "code",
   "execution_count": 38,
   "metadata": {},
   "outputs": [],
   "source": [
    "train_dataset = datasets['train']\n",
    "train_dataset = train_dataset.batch(5).shuffle(50).take(2)"
   ]
  },
  {
   "cell_type": "code",
   "execution_count": 39,
   "metadata": {},
   "outputs": [
    {
     "name": "stdout",
     "output_type": "stream",
     "text": [
      "(<tf.Tensor: shape=(5,), dtype=string, numpy=\n",
      "array([b'Frailty is a non-gory horror film that achieves its chills by following the logic and impact of a man\\'s delusion/obsession straight into depravity. Dad (we never learn his name) is a gentle man and loving father who\\'s raising his sons alone after Mom died giving birth to the youngest son, Adam. The family\\'s world flips upside down late one night when Dad rushes into the boys\\' room and tells them God has given him a vision. And what a vision \\xc2\\x96 the entire family\\'s job is to destroy demons, who, of course, are disguised in human form.<br /><br />Proceeding from this premise, the movie is unflinching in following it. Dad kidnaps people/demons whom God has told him to destroy, binds them, lays his hand on them to see a vision of their evil, then kills them \\xc2\\x96 while making his young sons watch. Fenton, the older boy, is horrified, seeing only a father who\\'s turned into a crazed murderer. Adam, the younger, is uncomfortable, but trusts that Dad is following God\\'s will. Eventually, Dad takes his sons on missions to abduct the \"demons\" that God has put on Dad\\'s list, and finally, invites them to fully participate in God\\'s mission for the family.<br /><br />This is not, you understand, an abusive father. He loves his children. He is only following God\\'s instructions: \"This is our job now, son. We\\'ve got to do this.\" When Fenton, terrified and convinced his father has gone mad, says he\\'ll report him to the police, his father explains, \"If you do that, son, I\\'ll die. The angel was clear on this.\" The pressure that the children are under is unbearable and tragic, and warps their entire lives.(1) The movie\\'s structure is similar to the one used in The Usual Suspects: a story in flashback, told in a police station to a FBI agent. The moody lighting, the stormy weather, and the eerie calm in the present day add to the menace of the backstory. I wanted to believe the unfolding horror was just a story, until I remembered the real-life parallel of Andrea Yates, who believed she was possessed by Satan and could save her children by drowning them. Even then, I wanted to believe that I was watching a human tragedy, rather than a story of divine retribution.<br /><br />The movie gave me no such comfort, though, as it gave strong clues at the end about the veracity of Dad\\'s vision. And this, as much as some plot holes, posed a problem for me. Regardless of the accuracy of Dad\\'s visions, regardless of the evil that his victims may have committed, where does anyone derive the authority to act as an angel of death? (1) Roger Ebert review, 4/12/02',\n",
      "       b\"The film gets my stamp of approval. The scene in the museum demands acting without dialogue. This is one of the most interesting and unique scenes in the history of film. Dickinson's character Kate is very well developed and her performance is felt throughout the entire film. The best work Angie Dickinson did since Point Blank!\",\n",
      "       b'I first rented this film many years ago, and was completely enthralled by it. Just recently, feeling a strange need to revisit some of the way-too-few films that I\\'ve immensely enjoyed in my lifetime, I decided to give \"Erendira\" another look. And I\\'m glad I did, as I soon discovered that even the passage of time has not in the least dulled the shine of this film.<br /><br />The story is about a teenaged girl (Erendira, played remarkably by Claudia O\\'hana - in some respects she resembles Winona Ryder!) who accidentally burns down her grandmother\\'s mansion after which the grandmother, played downright hypnotically by Irene Papas, forces the girl into a life of prostitution on the road to repay the damages. <br /><br />The viewing is at once fascinating and compelling - though, inspite of the basic premise, which deals with prostitution, is tastefully void of gratuitous steamy sexual content. The story revolves more around the interactions between the girl and her grandmother, and the various other colorful characters with whom they come into contact on their sojourn - which, by the way, is in the rough and tumble part of rural Mexico.<br /><br />The film is very atmospheric, arrestingly enigmatic with a decided dreamlike quality. It sometimes borders on the bizarre, but not to the point of, say, a David Lynch film. It\\'s also worth mentioning that the film is very allegorical in nature, read the comments from previous viewers below...<br /><br />Often in the background you hear the sounds of a lone accordion, quiet and melancholy, adding just the right musical accents to highlight the Mexican setting. The cinematography of the rural places, many of which are in the desert, is quite superb.<br /><br />The film moves at a nice pace, neither too fast nor too slow, and after every scene I felt I had to rewind the tape and play it over again, just because it makes you want to do that. For me anyway, it really is that compelling.<br /><br />Hopefully you will see the film in its Spanish language version, with subtitles. I studied Spanish in high school as well as in college, and I was happy to be able to understand much of the dialogue. Por ejemplo: \"El mundo no es tan grande como pensaba.\" (\"The world\\'s not as big as I thought\" - i.e., It\\'s a small world.)<br /><br />This film somehow reminds me of stumbling upon a dusty old bottle of vintage wine, which, upon drinking, is immensely satisfying, however, you are left with some sadness upon realizing that there aren\\'t more bottles just like this one.',\n",
      "       b'\"And All Through the House\" is a special crypt episode not only because it\\'s from the first season, but this episode was the first one I saw! I remember as a young man being on vacation with my parents that summer in 1989 in our hotel room in South Carolina on HBO I saw this episode and I was buried to the Crypt right then and forever! I had always been a fan of horror-suspense series and liked monster movies, and with this series started by HBO I again had fearful pleasure. This episode being the first one I saw is memorable for me and one of my favorites, it\\'s just so enjoyable with a nice twist. \"And All Through the House\" has a nice cozy setting on a snowy Christmas Eve, which is a perfect way to get you relaxed for holiday chopping! Well anyway you have Mary Ellen Trainor(who by the way plays in several warner brothers works, usually small parts) as a greedy philandering wife who takes care of her hubby while waiting on some money and a new romance. Only like most horror series things take a turn for the worst and bad people get what they deserve. The odds are greatly stacked when a maniac dressed as Santa escapes from a local nut house, making for a late holiday chopping on Christmas Eve! As from the old E.C. comic lessons, you learn bad people get what they axe for! Well this tale ends with a perfect holiday scream! Also this tale was in the 1972 movie and featured Joan Collins, this is without a doubt one of my favorites and probably one of the classic crypt episodes of all-time!',\n",
      "       b\"The Impossible Planet and The Satan Pit together comprise the two best episodes of the 'new' Doctor Who's second season. Having said that, it should be obvious that much of the story basically transposes the plot of Quatermass and the Pit (1967) to an outer space setting, with the history of the universe intertwined with that of the Beast 666. These episodes cement the emotional ties between Rose and the Doctor, whilst also highlighting Rose's increasing self-confidence, establishing her as a not-quite-equal-yet-but-getting-there partner with our beloved Time Lord. Also of note is Matt Jones elegant screenplay, which decreases the occasional over-reliance on one-liners for the Doctor, and the performances of the entire cast, most notably the excellent Shaun Parkes as acting Captain Zachary Cross Flane.\"],\n",
      "      dtype=object)>, <tf.Tensor: shape=(5,), dtype=int64, numpy=array([1, 1, 1, 1, 1])>)\n",
      "(<tf.Tensor: shape=(5,), dtype=string, numpy=\n",
      "array([b'This is available on a \"Drive In Double Feature\" from Dark Sky Films, and since I just had finished up \"Barracuda\", I watched this too. This is a film that proves to be incredibly ambitious and inept at the same time.<br /><br />We begin with two young ladies wandering the streets of some foreign town, but where exactly are they? They stop to look at necklaces from some Chinese vendor, and try on Chinese-style clothes at a shop, but then we see some Aztec dancers? And all the while, these girls are being followed by two guys, who eventually drop whatever stealth they didn\\'t have to chase the girls on a wild run though the town, and they finally catch them.<br /><br />It seems that one of the girls has a coin on a string around her neck, and these guys want to find the loot, and where did she get it? So, in flashback, we go back to find out. And how did they know she had this coin? Hard to say, really.<br /><br />Now, back in the day, when these two women were 10 years old, they were out with their sisters and their sister\\'s boyfriends on a boat, and after stopped to get air in their tanks, they tow this young boy back to his home dock, only to have his grandpa come out & invite the \"young \\'uns\" up for herbal tea with granny. But not everyone has the tea, Todd has gone back to the boat to check on the young girls, and then when they\\'re away from it, the boat blows up, and when they get back to the house their friends have mysteriously disappeared. Well, it seems as though these \"kindly folk\" raise their own vegetables but they wait for the meat to drop by for a spell, and serve it herbal tea.<br /><br />But the girls and Todd did leave the island, but now, they\\'re returning, escorted by their captors, and they\\'re there to find the treasure, despite the fact that no one ever showed the girls where it was BEFORE. There also seems to be someone else on the island, and the thugs mysteriously begin to die, one by one, and since there\\'s only three, it doesn\\'t take long. And there\\'s even a sort of happy ending, which will leave the viewer every bit as baffled as they were throughout the rest of the film.<br /><br />The two thugs seem to be speed freaks with anger issues, and combined with no acting ability they\\'re borderline hilarious. The hillbilly-type family is also devoid of acting ability, despite the fact that the grandpa is Hank Worden, who appeared in many films and TV shows. The action is confusing, the locales are even more confusing, and the island looks like Southern California.<br /><br />So what the hell IS this? I\\'m not sure, but it certainly is worth seeing once so you can think (or say), huh? 4 out of 10, very bizarre.',\n",
      "       b'A terrible amateur movie director (no, not Todd Sheets), his new friend and sister explore a cave. The friend and sister fall in and get rescued. Meanwhile a gang of horribly acted girls are defending their \\'turf\\'. Whatever the heck that means. This film and I use the term VERY loosely is so bad that it\\'s.. well bad. The humor is painfully unfunny, the \"action\" merely sad. Now I\\'ve seen some atrociously awful \\'horror\\' films in my time & failed to grow jaded in my approach to watching low-budget films, yet I still weep openly for anyone who choose to sit through this. ONLY for the most hardened maschocists amongst you. but the rest run away FAST!!<br /><br />My Grade: F',\n",
      "       b\"So what's the big fuss out of making an INDIANA JONES wannabe when you have an actor who's cast as a fictional dude from adventure storybooks who doesn't want to go out on an adventure??? Whoever wrote the script for JAKE SPEED was probably fired, but for whatever reasons possible, this movie greatly lacks in excitement! That doesn't mean it has no action, but look on the dark side of the picture. This has got to bare no resemblance to INDIANA JONES or other action-adventure thrills containing cliffhangers and narrow escapes, and JAKE SPEED was promoted that way using clever propaganda to make me and several others interested in it! Besides, I've never heard of the guy, so who needs his attention?\",\n",
      "       b'I saw this film last night at a special movie theater showing in N\\xc3\\xbcrnberg, and it was superb. I do have to admit that the original music composition of the cello player and percussion/xylophone player influenced the mood of the film, but the film itself also had force in its portrayal of the tragic Nibelungen saga.<br /><br />If you are interested in silent films or in the Nibelungenlied, I highly recommend this film. The costumes were fantastic and creative, the sets were opulent and exotic, and the acting was dramatic and breathtaking (as is typical of silent film \"tragedies\") Unfortunately, I have not seen the first part of this film duo that concerns Siegfried. The story of this second film begins after Siegfried\\'s death, when Kremhild (Gudrun in the Norse versions of the story) begins to plan her revenge against her brothers.<br /><br />Also, I watched this film in German; I am a native English speaker and have a basic German knowledge. It was difficult to read the ?subtitles (what do you call that in silent films?) at first because of the old style German script, so I advise that if you watch it in German that you make sure you can differentiate your \"k\\'s\", \"f\\'s\", and \"s\\'s\" in the old script. :)',\n",
      "       b'Okay, I absolutely LOVE Ben Stiller, although I am lukewarm about Jennifer Aniston. I do not think this girl can act in the least. Every movie or sitcom I\\'ve seen her in is very hard to get past her fake acting. It sounds like she is just standing there reading right off the script. This movie only had one good thing about it, and that\\'s that Ben Stiller was in it. This plot is so used and abused it\\'s ridiculous. How many movies have this same type of plot?? Can we say \"Forces of Nature??\" Not only is the plot so old, but the outcome is so predictable, it\\'s boring. I knew everything that was going to happen before it did. It was a bore, but watching Stiller is always a delight!!!'],\n",
      "      dtype=object)>, <tf.Tensor: shape=(5,), dtype=int64, numpy=array([0, 0, 0, 1, 0])>)\n"
     ]
    }
   ],
   "source": [
    "for data in train_dataset:\n",
    "    print(data)"
   ]
  },
  {
   "cell_type": "code",
   "execution_count": null,
   "metadata": {},
   "outputs": [],
   "source": []
  }
 ],
 "metadata": {
  "kernelspec": {
   "display_name": "Python 3.6.9 64-bit ('tf2': venv)",
   "language": "python",
   "name": "python36964bittf2venva35f2732c57c4baa876ab0ce8c2bd68e"
  },
  "language_info": {
   "codemirror_mode": {
    "name": "ipython",
    "version": 3
   },
   "file_extension": ".py",
   "mimetype": "text/x-python",
   "name": "python",
   "nbconvert_exporter": "python",
   "pygments_lexer": "ipython3",
   "version": "3.6.9"
  }
 },
 "nbformat": 4,
 "nbformat_minor": 4
}

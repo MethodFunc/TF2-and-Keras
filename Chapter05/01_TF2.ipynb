{
 "cells": [
  {
   "cell_type": "code",
   "execution_count": 1,
   "metadata": {},
   "outputs": [],
   "source": [
    "import tensorflow as tf\n",
    "import numpy as np\n",
    "import matplotlib.pyplot as plt\n",
    "import cv2\n",
    "import os\n",
    "import time"
   ]
  },
  {
   "cell_type": "code",
   "execution_count": 2,
   "metadata": {},
   "outputs": [],
   "source": [
    "from tensorflow import keras"
   ]
  },
  {
   "cell_type": "code",
   "execution_count": 3,
   "metadata": {},
   "outputs": [],
   "source": [
    "LABEL_DEMENSIONS = 10"
   ]
  },
  {
   "cell_type": "code",
   "execution_count": 4,
   "metadata": {},
   "outputs": [],
   "source": [
    "(train_images, train_labels), (test_images, test_labels) = keras.datasets.fashion_mnist.load_data()"
   ]
  },
  {
   "cell_type": "code",
   "execution_count": 5,
   "metadata": {},
   "outputs": [],
   "source": [
    "train_images = np.asarray(train_images, dtype='float32') / 255"
   ]
  },
  {
   "cell_type": "code",
   "execution_count": 6,
   "metadata": {},
   "outputs": [],
   "source": [
    "train_images = train_images.reshape(-1, 28, 28, 1)\n",
    "test_images = np.asarray(test_images, dtype='float32') / 255"
   ]
  },
  {
   "cell_type": "code",
   "execution_count": 7,
   "metadata": {},
   "outputs": [],
   "source": [
    "test_images = test_images.reshape(-1, 28, 28, 1)"
   ]
  },
  {
   "cell_type": "code",
   "execution_count": 8,
   "metadata": {},
   "outputs": [],
   "source": [
    "train_labels = keras.utils.to_categorical(train_labels, LABEL_DEMENSIONS)\n",
    "test_labels = keras.utils.to_categorical(test_labels, LABEL_DEMENSIONS)"
   ]
  },
  {
   "cell_type": "code",
   "execution_count": 9,
   "metadata": {},
   "outputs": [],
   "source": [
    "train_labels = train_labels.astype(np.float32)\n",
    "test_labels = test_labels.astype(np.float32)"
   ]
  },
  {
   "cell_type": "code",
   "execution_count": 10,
   "metadata": {},
   "outputs": [
    {
     "name": "stdout",
     "output_type": "stream",
     "text": [
      "(60000, 10) (10000, 10)\n"
     ]
    }
   ],
   "source": [
    "print(train_labels.shape, test_labels.shape)"
   ]
  },
  {
   "cell_type": "code",
   "execution_count": 11,
   "metadata": {},
   "outputs": [],
   "source": [
    "inputs = keras.Input(shape=(28, 28, 1))\n",
    "x = keras.layers.Conv2D(filters = 32, kernel_size=(3, 3), activation='relu')(inputs)\n",
    "x = keras.layers.MaxPooling2D(pool_size=(2, 2), strides = 2)(x)\n",
    "x = keras.layers.Conv2D(filters = 64, kernel_size=(3, 3), activation='relu')(x)\n",
    "x = keras.layers.MaxPooling2D(pool_size=(2, 2), strides = 2)(x)\n",
    "x = keras.layers.Conv2D(filters = 64, kernel_size=(3, 3), activation='relu')(x)\n",
    "x = keras.layers.Flatten()(x)\n",
    "x = keras.layers.Dense(64, activation='relu')(x)"
   ]
  },
  {
   "cell_type": "code",
   "execution_count": 12,
   "metadata": {},
   "outputs": [],
   "source": [
    "predictions = keras.layers.Dense(LABEL_DEMENSIONS, activation = 'softmax')(x)"
   ]
  },
  {
   "cell_type": "code",
   "execution_count": 13,
   "metadata": {},
   "outputs": [
    {
     "name": "stdout",
     "output_type": "stream",
     "text": [
      "Model: \"functional_1\"\n",
      "_________________________________________________________________\n",
      "Layer (type)                 Output Shape              Param #   \n",
      "=================================================================\n",
      "input_1 (InputLayer)         [(None, 28, 28, 1)]       0         \n",
      "_________________________________________________________________\n",
      "conv2d (Conv2D)              (None, 26, 26, 32)        320       \n",
      "_________________________________________________________________\n",
      "max_pooling2d (MaxPooling2D) (None, 13, 13, 32)        0         \n",
      "_________________________________________________________________\n",
      "conv2d_1 (Conv2D)            (None, 11, 11, 64)        18496     \n",
      "_________________________________________________________________\n",
      "max_pooling2d_1 (MaxPooling2 (None, 5, 5, 64)          0         \n",
      "_________________________________________________________________\n",
      "conv2d_2 (Conv2D)            (None, 3, 3, 64)          36928     \n",
      "_________________________________________________________________\n",
      "flatten (Flatten)            (None, 576)               0         \n",
      "_________________________________________________________________\n",
      "dense (Dense)                (None, 64)                36928     \n",
      "_________________________________________________________________\n",
      "dense_1 (Dense)              (None, 10)                650       \n",
      "=================================================================\n",
      "Total params: 93,322\n",
      "Trainable params: 93,322\n",
      "Non-trainable params: 0\n",
      "_________________________________________________________________\n"
     ]
    }
   ],
   "source": [
    "model = keras.Model(inputs = inputs, outputs = predictions)\n",
    "model.summary()"
   ]
  },
  {
   "cell_type": "code",
   "execution_count": 14,
   "metadata": {},
   "outputs": [],
   "source": [
    "optimizer = keras.optimizers.SGD()\n",
    "model.compile(loss='categorical_crossentropy', optimizer = optimizer, metrics=['accuracy'])"
   ]
  },
  {
   "cell_type": "code",
   "execution_count": 15,
   "metadata": {},
   "outputs": [
    {
     "name": "stdout",
     "output_type": "stream",
     "text": [
      "INFO:tensorflow:Using MirroredStrategy with devices ('/job:localhost/replica:0/task:0/device:GPU:0',)\n",
      "INFO:tensorflow:Initializing RunConfig with distribution strategies.\n",
      "INFO:tensorflow:Not using Distribute Coordinator.\n"
     ]
    }
   ],
   "source": [
    "# strategy = None\n",
    "strategy = tf.distribute.MirroredStrategy()\n",
    "config = tf.estimator.RunConfig(train_distribute=strategy)"
   ]
  },
  {
   "cell_type": "code",
   "execution_count": 16,
   "metadata": {},
   "outputs": [
    {
     "name": "stdout",
     "output_type": "stream",
     "text": [
      "WARNING:tensorflow:Using temporary folder as model directory: /tmp/tmpiy6ppu04\n",
      "INFO:tensorflow:Using the Keras model provided.\n",
      "WARNING:tensorflow:From /home/methodfunc/envs/tf2/lib/python3.8/site-packages/tensorflow_estimator/python/estimator/keras.py:220: set_learning_phase (from tensorflow.python.keras.backend) is deprecated and will be removed after 2020-10-11.\n",
      "Instructions for updating:\n",
      "Simply pass a True/False value to the `training` argument of the `__call__` method of your layer or model.\n",
      "INFO:tensorflow:Using config: {'_model_dir': '/tmp/tmpiy6ppu04', '_tf_random_seed': None, '_save_summary_steps': 100, '_save_checkpoints_steps': None, '_save_checkpoints_secs': 600, '_session_config': allow_soft_placement: true\n",
      "graph_options {\n",
      "  rewrite_options {\n",
      "    meta_optimizer_iterations: ONE\n",
      "  }\n",
      "}\n",
      ", '_keep_checkpoint_max': 5, '_keep_checkpoint_every_n_hours': 10000, '_log_step_count_steps': 100, '_train_distribute': <tensorflow.python.distribute.mirrored_strategy.MirroredStrategy object at 0x7f23d39136d0>, '_device_fn': None, '_protocol': None, '_eval_distribute': None, '_experimental_distribute': None, '_experimental_max_worker_delay_secs': None, '_session_creation_timeout_secs': 7200, '_service': None, '_cluster_spec': ClusterSpec({}), '_task_type': 'worker', '_task_id': 0, '_global_id_in_cluster': 0, '_master': '', '_evaluation_master': '', '_is_chief': True, '_num_ps_replicas': 0, '_num_worker_replicas': 1, '_distribute_coordinator_mode': None}\n"
     ]
    }
   ],
   "source": [
    "estimator = keras.estimator.model_to_estimator(model, config=config)"
   ]
  },
  {
   "cell_type": "code",
   "execution_count": 17,
   "metadata": {},
   "outputs": [],
   "source": [
    "def input_fn(images, labels, epochs, batch_size):\n",
    "    dataset = tf.data.Dataset.from_tensor_slices((images, labels))\n",
    "    \n",
    "    SHUFFLE_SIZE = 5000\n",
    "    \n",
    "    dataset = dataset.shuffle(SHUFFLE_SIZE).repeat(epochs).batch(batch_size)\n",
    "    dataset = dataset.prefetch(None)\n",
    "    \n",
    "    return dataset"
   ]
  },
  {
   "cell_type": "code",
   "execution_count": 18,
   "metadata": {},
   "outputs": [
    {
     "name": "stdout",
     "output_type": "stream",
     "text": [
      "WARNING:tensorflow:From /home/methodfunc/envs/tf2/lib/python3.8/site-packages/tensorflow/python/data/ops/multi_device_iterator_ops.py:339: get_next_as_optional (from tensorflow.python.data.ops.iterator_ops) is deprecated and will be removed in a future version.\n",
      "Instructions for updating:\n",
      "Use `tf.data.Iterator.get_next_as_optional()` instead.\n",
      "INFO:tensorflow:Reduce to /replica:0/task:0/device:CPU:0 then broadcast to ('/replica:0/task:0/device:CPU:0',).\n",
      "INFO:tensorflow:Calling model_fn.\n",
      "INFO:tensorflow:Reduce to /replica:0/task:0/device:CPU:0 then broadcast to ('/replica:0/task:0/device:CPU:0',).\n",
      "INFO:tensorflow:Reduce to /replica:0/task:0/device:CPU:0 then broadcast to ('/replica:0/task:0/device:CPU:0',).\n",
      "INFO:tensorflow:Reduce to /replica:0/task:0/device:CPU:0 then broadcast to ('/replica:0/task:0/device:CPU:0',).\n",
      "INFO:tensorflow:Reduce to /replica:0/task:0/device:CPU:0 then broadcast to ('/replica:0/task:0/device:CPU:0',).\n",
      "INFO:tensorflow:Reduce to /replica:0/task:0/device:CPU:0 then broadcast to ('/replica:0/task:0/device:CPU:0',).\n",
      "INFO:tensorflow:Reduce to /replica:0/task:0/device:CPU:0 then broadcast to ('/replica:0/task:0/device:CPU:0',).\n",
      "INFO:tensorflow:Reduce to /replica:0/task:0/device:CPU:0 then broadcast to ('/replica:0/task:0/device:CPU:0',).\n",
      "INFO:tensorflow:Reduce to /replica:0/task:0/device:CPU:0 then broadcast to ('/replica:0/task:0/device:CPU:0',).\n",
      "INFO:tensorflow:Reduce to /replica:0/task:0/device:CPU:0 then broadcast to ('/replica:0/task:0/device:CPU:0',).\n",
      "INFO:tensorflow:Done calling model_fn.\n",
      "WARNING:tensorflow:AutoGraph could not transform <function _combine_distributed_scaffold.<locals>.<lambda> at 0x7f23d38c2310> and will run it as-is.\n",
      "Cause: could not parse the source code:\n",
      "\n",
      "      lambda scaffold: scaffold.ready_op, args=(grouped_scaffold,))\n",
      "\n",
      "This error may be avoided by creating the lambda in a standalone statement.\n",
      "\n",
      "To silence this warning, decorate the function with @tf.autograph.experimental.do_not_convert\n",
      "WARNING: AutoGraph could not transform <function _combine_distributed_scaffold.<locals>.<lambda> at 0x7f23d38c2310> and will run it as-is.\n",
      "Cause: could not parse the source code:\n",
      "\n",
      "      lambda scaffold: scaffold.ready_op, args=(grouped_scaffold,))\n",
      "\n",
      "This error may be avoided by creating the lambda in a standalone statement.\n",
      "\n",
      "To silence this warning, decorate the function with @tf.autograph.experimental.do_not_convert\n",
      "INFO:tensorflow:Warm-starting with WarmStartSettings: WarmStartSettings(ckpt_to_initialize_from='/tmp/tmpiy6ppu04/keras/keras_model.ckpt', vars_to_warm_start='.*', var_name_to_vocab_info={}, var_name_to_prev_var_name={})\n",
      "INFO:tensorflow:Warm-starting from: /tmp/tmpiy6ppu04/keras/keras_model.ckpt\n",
      "INFO:tensorflow:Warm-starting variables only in TRAINABLE_VARIABLES.\n",
      "INFO:tensorflow:Warm-started 10 variables.\n",
      "INFO:tensorflow:Create CheckpointSaverHook.\n",
      "WARNING:tensorflow:From /home/methodfunc/envs/tf2/lib/python3.8/site-packages/tensorflow_estimator/python/estimator/util.py:96: DistributedIteratorV1.initialize (from tensorflow.python.distribute.input_lib) is deprecated and will be removed in a future version.\n",
      "Instructions for updating:\n",
      "Use the iterator's `initializer` property instead.\n",
      "INFO:tensorflow:Graph was finalized.\n",
      "INFO:tensorflow:Running local_init_op.\n",
      "INFO:tensorflow:Done running local_init_op.\n",
      "INFO:tensorflow:Calling checkpoint listeners before saving checkpoint 0...\n",
      "INFO:tensorflow:Saving checkpoints for 0 into /tmp/tmpiy6ppu04/model.ckpt.\n",
      "INFO:tensorflow:Calling checkpoint listeners after saving checkpoint 0...\n",
      "INFO:tensorflow:loss = 2.2994468, step = 0\n",
      "INFO:tensorflow:global_step/sec: 108.442\n",
      "INFO:tensorflow:loss = 2.1869056, step = 100 (0.923 sec)\n",
      "INFO:tensorflow:global_step/sec: 107.491\n",
      "INFO:tensorflow:loss = 1.6416034, step = 200 (0.930 sec)\n",
      "INFO:tensorflow:global_step/sec: 115.468\n",
      "INFO:tensorflow:loss = 1.180587, step = 300 (0.867 sec)\n",
      "INFO:tensorflow:global_step/sec: 112.293\n",
      "INFO:tensorflow:loss = 0.9364891, step = 400 (0.891 sec)\n",
      "INFO:tensorflow:global_step/sec: 114.208\n",
      "INFO:tensorflow:loss = 0.938221, step = 500 (0.876 sec)\n",
      "INFO:tensorflow:global_step/sec: 114.373\n",
      "INFO:tensorflow:loss = 0.89371634, step = 600 (0.874 sec)\n",
      "INFO:tensorflow:global_step/sec: 113.748\n",
      "INFO:tensorflow:loss = 0.77611333, step = 700 (0.880 sec)\n",
      "INFO:tensorflow:global_step/sec: 108.598\n",
      "INFO:tensorflow:loss = 0.77898186, step = 800 (0.921 sec)\n",
      "INFO:tensorflow:global_step/sec: 114.011\n",
      "INFO:tensorflow:loss = 0.6682664, step = 900 (0.877 sec)\n",
      "INFO:tensorflow:global_step/sec: 115.486\n",
      "INFO:tensorflow:loss = 0.73120856, step = 1000 (0.866 sec)\n",
      "INFO:tensorflow:global_step/sec: 111.279\n",
      "INFO:tensorflow:loss = 0.7230125, step = 1100 (0.899 sec)\n",
      "INFO:tensorflow:global_step/sec: 106.619\n",
      "INFO:tensorflow:loss = 0.7094468, step = 1200 (0.938 sec)\n",
      "INFO:tensorflow:global_step/sec: 111.548\n",
      "INFO:tensorflow:loss = 0.61936796, step = 1300 (0.897 sec)\n",
      "INFO:tensorflow:global_step/sec: 113.448\n",
      "INFO:tensorflow:loss = 0.5628993, step = 1400 (0.881 sec)\n",
      "INFO:tensorflow:global_step/sec: 115.177\n",
      "INFO:tensorflow:loss = 0.6187746, step = 1500 (0.868 sec)\n",
      "INFO:tensorflow:global_step/sec: 115.652\n",
      "INFO:tensorflow:loss = 0.5817355, step = 1600 (0.865 sec)\n",
      "INFO:tensorflow:global_step/sec: 113.165\n",
      "INFO:tensorflow:loss = 0.6323056, step = 1700 (0.884 sec)\n",
      "INFO:tensorflow:global_step/sec: 112.291\n",
      "INFO:tensorflow:loss = 0.6134071, step = 1800 (0.891 sec)\n",
      "INFO:tensorflow:global_step/sec: 113.778\n",
      "INFO:tensorflow:loss = 0.6621688, step = 1900 (0.879 sec)\n",
      "INFO:tensorflow:global_step/sec: 109.563\n",
      "INFO:tensorflow:loss = 0.55958897, step = 2000 (0.913 sec)\n",
      "INFO:tensorflow:global_step/sec: 108.578\n",
      "INFO:tensorflow:loss = 0.5667075, step = 2100 (0.921 sec)\n",
      "INFO:tensorflow:global_step/sec: 115.729\n",
      "INFO:tensorflow:loss = 0.64530784, step = 2200 (0.864 sec)\n",
      "INFO:tensorflow:global_step/sec: 112.548\n",
      "INFO:tensorflow:loss = 0.6024107, step = 2300 (0.889 sec)\n",
      "INFO:tensorflow:global_step/sec: 113.969\n",
      "INFO:tensorflow:loss = 0.6052428, step = 2400 (0.877 sec)\n",
      "INFO:tensorflow:global_step/sec: 115.957\n",
      "INFO:tensorflow:loss = 0.57555205, step = 2500 (0.862 sec)\n",
      "INFO:tensorflow:global_step/sec: 114.563\n",
      "INFO:tensorflow:loss = 0.5422241, step = 2600 (0.873 sec)\n",
      "INFO:tensorflow:global_step/sec: 105.216\n",
      "INFO:tensorflow:loss = 0.4594615, step = 2700 (0.950 sec)\n",
      "INFO:tensorflow:global_step/sec: 109.478\n",
      "INFO:tensorflow:loss = 0.5199404, step = 2800 (0.914 sec)\n",
      "INFO:tensorflow:global_step/sec: 111.981\n",
      "INFO:tensorflow:loss = 0.531685, step = 2900 (0.893 sec)\n",
      "INFO:tensorflow:global_step/sec: 112.814\n",
      "INFO:tensorflow:loss = 0.48624113, step = 3000 (0.887 sec)\n",
      "INFO:tensorflow:global_step/sec: 107.635\n",
      "INFO:tensorflow:loss = 0.52167284, step = 3100 (0.929 sec)\n",
      "INFO:tensorflow:global_step/sec: 116.613\n",
      "INFO:tensorflow:loss = 0.47031555, step = 3200 (0.858 sec)\n",
      "INFO:tensorflow:global_step/sec: 113.075\n",
      "INFO:tensorflow:loss = 0.4607692, step = 3300 (0.884 sec)\n",
      "INFO:tensorflow:global_step/sec: 114.844\n",
      "INFO:tensorflow:loss = 0.48978406, step = 3400 (0.871 sec)\n",
      "INFO:tensorflow:global_step/sec: 109.052\n",
      "INFO:tensorflow:loss = 0.5087988, step = 3500 (0.917 sec)\n",
      "INFO:tensorflow:global_step/sec: 111.494\n",
      "INFO:tensorflow:loss = 0.521687, step = 3600 (0.898 sec)\n",
      "INFO:tensorflow:global_step/sec: 112.494\n",
      "INFO:tensorflow:loss = 0.41690284, step = 3700 (0.889 sec)\n",
      "INFO:tensorflow:global_step/sec: 114.126\n",
      "INFO:tensorflow:loss = 0.5385856, step = 3800 (0.876 sec)\n",
      "INFO:tensorflow:global_step/sec: 112.969\n",
      "INFO:tensorflow:loss = 0.48906228, step = 3900 (0.885 sec)\n",
      "INFO:tensorflow:global_step/sec: 112.453\n",
      "INFO:tensorflow:loss = 0.4529071, step = 4000 (0.889 sec)\n",
      "INFO:tensorflow:global_step/sec: 114.008\n",
      "INFO:tensorflow:loss = 0.5014471, step = 4100 (0.877 sec)\n",
      "INFO:tensorflow:global_step/sec: 114.765\n",
      "INFO:tensorflow:loss = 0.4921226, step = 4200 (0.871 sec)\n",
      "INFO:tensorflow:global_step/sec: 111.224\n",
      "INFO:tensorflow:loss = 0.4122603, step = 4300 (0.899 sec)\n",
      "INFO:tensorflow:global_step/sec: 109.522\n",
      "INFO:tensorflow:loss = 0.5236542, step = 4400 (0.914 sec)\n",
      "INFO:tensorflow:global_step/sec: 112.402\n",
      "INFO:tensorflow:loss = 0.4133527, step = 4500 (0.889 sec)\n",
      "INFO:tensorflow:global_step/sec: 113.99\n",
      "INFO:tensorflow:loss = 0.38484013, step = 4600 (0.877 sec)\n",
      "INFO:tensorflow:global_step/sec: 114.659\n",
      "INFO:tensorflow:loss = 0.4577853, step = 4700 (0.872 sec)\n",
      "INFO:tensorflow:global_step/sec: 112.087\n",
      "INFO:tensorflow:loss = 0.45373836, step = 4800 (0.893 sec)\n",
      "INFO:tensorflow:global_step/sec: 113.039\n",
      "INFO:tensorflow:loss = 0.4083725, step = 4900 (0.884 sec)\n",
      "INFO:tensorflow:global_step/sec: 115.35\n",
      "INFO:tensorflow:loss = 0.44846955, step = 5000 (0.867 sec)\n",
      "INFO:tensorflow:global_step/sec: 113.24\n",
      "INFO:tensorflow:loss = 0.41224903, step = 5100 (0.884 sec)\n",
      "INFO:tensorflow:global_step/sec: 110.275\n",
      "INFO:tensorflow:loss = 0.40031722, step = 5200 (0.907 sec)\n",
      "INFO:tensorflow:global_step/sec: 114.186\n",
      "INFO:tensorflow:loss = 0.45168462, step = 5300 (0.875 sec)\n",
      "INFO:tensorflow:global_step/sec: 99.7276\n",
      "INFO:tensorflow:loss = 0.42931065, step = 5400 (1.002 sec)\n",
      "INFO:tensorflow:global_step/sec: 115.283\n",
      "INFO:tensorflow:loss = 0.44087228, step = 5500 (0.868 sec)\n",
      "INFO:tensorflow:global_step/sec: 113.08\n",
      "INFO:tensorflow:loss = 0.40977976, step = 5600 (0.885 sec)\n",
      "INFO:tensorflow:global_step/sec: 112.755\n",
      "INFO:tensorflow:loss = 0.42604756, step = 5700 (0.887 sec)\n",
      "INFO:tensorflow:global_step/sec: 114.888\n",
      "INFO:tensorflow:loss = 0.40698144, step = 5800 (0.870 sec)\n",
      "INFO:tensorflow:Calling checkpoint listeners before saving checkpoint 5860...\n",
      "INFO:tensorflow:Saving checkpoints for 5860 into /tmp/tmpiy6ppu04/model.ckpt.\n",
      "INFO:tensorflow:Calling checkpoint listeners after saving checkpoint 5860...\n",
      "INFO:tensorflow:Loss for final step: 0.3431193.\n",
      "<tensorflow_estimator.python.estimator.estimator.EstimatorV2 object at 0x7f23d3871b20>\n"
     ]
    }
   ],
   "source": [
    "BATCH_SIZE = 512\n",
    "EPOCHS = 50\n",
    "\n",
    "estimator_train_result = estimator.train(input_fn = lambda:input_fn(train_images, train_labels, epochs=EPOCHS, batch_size=BATCH_SIZE))\n",
    "print(estimator_train_result)"
   ]
  },
  {
   "cell_type": "code",
   "execution_count": 19,
   "metadata": {},
   "outputs": [
    {
     "name": "stdout",
     "output_type": "stream",
     "text": [
      "INFO:tensorflow:Calling model_fn.\n",
      "WARNING:tensorflow:From /home/methodfunc/envs/tf2/lib/python3.8/site-packages/tensorflow/python/keras/engine/training_v1.py:2048: Model.state_updates (from tensorflow.python.keras.engine.training) is deprecated and will be removed in a future version.\n",
      "Instructions for updating:\n",
      "This property should not be used in TensorFlow 2.0, as updates are applied automatically.\n",
      "INFO:tensorflow:Done calling model_fn.\n",
      "INFO:tensorflow:Starting evaluation at 2020-08-09T14:12:12Z\n",
      "INFO:tensorflow:Graph was finalized.\n",
      "INFO:tensorflow:Restoring parameters from /tmp/tmpiy6ppu04/model.ckpt-5860\n",
      "INFO:tensorflow:Running local_init_op.\n",
      "INFO:tensorflow:Done running local_init_op.\n",
      "INFO:tensorflow:Inference Time : 0.25153s\n",
      "INFO:tensorflow:Finished evaluation at 2020-08-09-14:12:13\n",
      "INFO:tensorflow:Saving dict for global step 5860: accuracy = 0.8395, global_step = 5860, loss = 0.4414285\n",
      "INFO:tensorflow:Saving 'checkpoint_path' summary for global step 5860: /tmp/tmpiy6ppu04/model.ckpt-5860\n"
     ]
    },
    {
     "data": {
      "text/plain": [
       "{'accuracy': 0.8395, 'loss': 0.4414285, 'global_step': 5860}"
      ]
     },
     "execution_count": 19,
     "metadata": {},
     "output_type": "execute_result"
    }
   ],
   "source": [
    "estimator.evaluate(lambda:input_fn(test_images, test_labels, 1, BATCH_SIZE))"
   ]
  },
  {
   "cell_type": "code",
   "execution_count": null,
   "metadata": {},
   "outputs": [],
   "source": []
  }
 ],
 "metadata": {
  "kernelspec": {
   "display_name": "Python 3",
   "language": "python",
   "name": "python3"
  },
  "language_info": {
   "codemirror_mode": {
    "name": "ipython",
    "version": 3
   },
   "file_extension": ".py",
   "mimetype": "text/x-python",
   "name": "python",
   "nbconvert_exporter": "python",
   "pygments_lexer": "ipython3",
   "version": "3.8.2"
  }
 },
 "nbformat": 4,
 "nbformat_minor": 4
}
